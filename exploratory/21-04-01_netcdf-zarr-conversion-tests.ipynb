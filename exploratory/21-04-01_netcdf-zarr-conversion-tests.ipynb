{
 "cells": [
  {
   "cell_type": "code",
   "execution_count": 1,
   "id": "limited-deadline",
   "metadata": {},
   "outputs": [],
   "source": [
    "import dask.distributed, os\n",
    "import xarray, numpy"
   ]
  },
  {
   "cell_type": "code",
   "execution_count": 2,
   "id": "engaged-momentum",
   "metadata": {},
   "outputs": [],
   "source": [
    "xarray.set_options(display_style='text');"
   ]
  },
  {
   "cell_type": "markdown",
   "id": "swedish-terry",
   "metadata": {},
   "source": [
    "Explicitly open a Dask cluster,"
   ]
  },
  {
   "cell_type": "code",
   "execution_count": 3,
   "id": "reflected-thong",
   "metadata": {},
   "outputs": [],
   "source": [
    "cluster = dask.distributed.LocalCluster(\n",
    "    n_workers=4, processes=True,\n",
    "    local_directory=os.getenv('TMPDIR'),\n",
    "    ip='0.0.0.0',\n",
    ")"
   ]
  },
  {
   "cell_type": "code",
   "execution_count": 4,
   "id": "relative-certificate",
   "metadata": {},
   "outputs": [
    {
     "data": {
      "text/html": [
       "<table style=\"border: 2px solid white;\">\n",
       "<tr>\n",
       "<td style=\"vertical-align: top; border: 0px solid white\">\n",
       "<h3 style=\"text-align: left;\">Client</h3>\n",
       "<ul style=\"text-align: left; list-style: none; margin: 0; padding: 0;\">\n",
       "  <li><b>Scheduler: </b>tcp://10.0.4.102:42327</li>\n",
       "  <li><b>Dashboard: </b><a href='http://10.0.4.102:8787/status' target='_blank'>http://10.0.4.102:8787/status</a></li>\n",
       "</ul>\n",
       "</td>\n",
       "<td style=\"vertical-align: top; border: 0px solid white\">\n",
       "<h3 style=\"text-align: left;\">Cluster</h3>\n",
       "<ul style=\"text-align: left; list-style:none; margin: 0; padding: 0;\">\n",
       "  <li><b>Workers: </b>4</li>\n",
       "  <li><b>Cores: </b>16</li>\n",
       "  <li><b>Memory: </b>85.90 GB</li>\n",
       "</ul>\n",
       "</td>\n",
       "</tr>\n",
       "</table>"
      ],
      "text/plain": [
       "<Client: 'tcp://10.0.4.102:42327' processes=4 threads=16, memory=85.90 GB>"
      ]
     },
     "execution_count": 4,
     "metadata": {},
     "output_type": "execute_result"
    }
   ],
   "source": [
    "client = dask.distributed.Client(cluster)\n",
    "client"
   ]
  },
  {
   "cell_type": "markdown",
   "id": "noble-topic",
   "metadata": {},
   "source": [
    "Specify file paths,"
   ]
  },
  {
   "cell_type": "code",
   "execution_count": 5,
   "id": "light-spider",
   "metadata": {},
   "outputs": [],
   "source": [
    "source_path='/gxfs_work1/geomar/smomw355/model_data/ocean-only/VIKING20X.L46-KFS003/nemo/output'"
   ]
  },
  {
   "cell_type": "code",
   "execution_count": 6,
   "id": "further-lease",
   "metadata": {},
   "outputs": [],
   "source": [
    "example_file='1_VIKING20X.L46-KFS003_1m_19580101_19581231_grid_T.nc'"
   ]
  },
  {
   "cell_type": "code",
   "execution_count": 7,
   "id": "postal-democracy",
   "metadata": {},
   "outputs": [],
   "source": [
    "target_path='/gxfs_work1/geomar/smomw260/github/NEMO-to-cloud'"
   ]
  },
  {
   "cell_type": "code",
   "execution_count": 8,
   "id": "technical-validity",
   "metadata": {},
   "outputs": [],
   "source": [
    "target_prefix='1_VIKING20X.L46-KFS003_1m_grid_T'"
   ]
  },
  {
   "cell_type": "markdown",
   "id": "partial-square",
   "metadata": {},
   "source": [
    "Clean-up target file system location,"
   ]
  },
  {
   "cell_type": "code",
   "execution_count": 9,
   "id": "valid-newspaper",
   "metadata": {},
   "outputs": [],
   "source": [
    "!rm -r \"$target_path/$target_prefix\".nc \"$target_path/$target_prefix\".zarr"
   ]
  },
  {
   "cell_type": "code",
   "execution_count": 10,
   "id": "bottom-cooperative",
   "metadata": {},
   "outputs": [],
   "source": [
    "!ls \"$target_path\""
   ]
  },
  {
   "cell_type": "markdown",
   "id": "distinct-interaction",
   "metadata": {},
   "source": [
    "Check original netcdf format details,"
   ]
  },
  {
   "cell_type": "code",
   "execution_count": 11,
   "id": "secure-grounds",
   "metadata": {},
   "outputs": [
    {
     "name": "stdout",
     "output_type": "stream",
     "text": [
      "netcdf \\1_VIKING20X.L46-KFS003_1m_19580101_19581231_grid_T {\n",
      "dimensions:\n",
      "\ty = 2499 ;\n",
      "\tx = 2404 ;\n",
      "\tdeptht = 46 ;\n",
      "\taxis_nbounds = 2 ;\n",
      "\ttime_counter = UNLIMITED ; // (12 currently)\n",
      "variables:\n",
      "\tfloat nav_lat(y, x) ;\n",
      "\t\tnav_lat:standard_name = \"latitude\" ;\n",
      "\t\tnav_lat:long_name = \"Latitude\" ;\n",
      "\t\tnav_lat:units = \"degrees_north\" ;\n",
      "\t\tnav_lat:_Storage = \"chunked\" ;\n",
      "\t\tnav_lat:_ChunkSizes = 2499, 2404 ;\n",
      "\t\tnav_lat:_Endianness = \"little\" ;\n",
      "\tfloat nav_lon(y, x) ;\n",
      "\t\tnav_lon:standard_name = \"longitude\" ;\n",
      "\t\tnav_lon:long_name = \"Longitude\" ;\n",
      "\t\tnav_lon:units = \"degrees_east\" ;\n",
      "\t\tnav_lon:_Storage = \"chunked\" ;\n",
      "\t\tnav_lon:_ChunkSizes = 2499, 2404 ;\n",
      "\t\tnav_lon:_Endianness = \"little\" ;\n",
      "\tfloat deptht(deptht) ;\n",
      "\t\tdeptht:name = \"deptht\" ;\n",
      "\t\tdeptht:long_name = \"Vertical T levels\" ;\n",
      "\t\tdeptht:units = \"m\" ;\n",
      "\t\tdeptht:positive = \"down\" ;\n",
      "\t\tdeptht:bounds = \"deptht_bounds\" ;\n",
      "\t\tdeptht:_Storage = \"contiguous\" ;\n",
      "\t\tdeptht:_Endianness = \"little\" ;\n",
      "\tfloat deptht_bounds(deptht, axis_nbounds) ;\n",
      "\t\tdeptht_bounds:units = \"m\" ;\n",
      "\t\tdeptht_bounds:_Storage = \"contiguous\" ;\n",
      "\t\tdeptht_bounds:_Endianness = \"little\" ;\n",
      "\tdouble time_centered(time_counter) ;\n",
      "\t\ttime_centered:standard_name = \"time\" ;\n",
      "\t\ttime_centered:long_name = \"Time axis\" ;\n",
      "\t\ttime_centered:calendar = \"gregorian\" ;\n",
      "\t\ttime_centered:units = \"seconds since 1900-01-01 00:00:00\" ;\n",
      "\t\ttime_centered:time_origin = \"1900-01-01 00:00:00\" ;\n",
      "\t\ttime_centered:bounds = \"time_centered_bounds\" ;\n",
      "\t\ttime_centered:cell_methods = \"time_counter: mean\" ;\n",
      "\t\ttime_centered:_Storage = \"chunked\" ;\n",
      "\t\ttime_centered:_ChunkSizes = 1 ;\n",
      "\t\ttime_centered:_Endianness = \"little\" ;\n",
      "\tdouble time_centered_bounds(time_counter, axis_nbounds) ;\n",
      "\t\ttime_centered_bounds:cell_methods = \"time_counter: mean\" ;\n",
      "\t\ttime_centered_bounds:_Storage = \"chunked\" ;\n",
      "\t\ttime_centered_bounds:_ChunkSizes = 1, 2 ;\n",
      "\t\ttime_centered_bounds:_Endianness = \"little\" ;\n",
      "\tdouble time_counter(time_counter) ;\n",
      "\t\ttime_counter:axis = \"T\" ;\n",
      "\t\ttime_counter:standard_name = \"time\" ;\n",
      "\t\ttime_counter:long_name = \"Time axis\" ;\n",
      "\t\ttime_counter:calendar = \"gregorian\" ;\n",
      "\t\ttime_counter:units = \"seconds since 1900-01-01 00:00:00\" ;\n",
      "\t\ttime_counter:time_origin = \"1900-01-01 00:00:00\" ;\n",
      "\t\ttime_counter:bounds = \"time_counter_bounds\" ;\n",
      "\t\ttime_counter:cell_methods = \"time_counter: mean\" ;\n",
      "\t\ttime_counter:_Storage = \"chunked\" ;\n",
      "\t\ttime_counter:_ChunkSizes = 1 ;\n",
      "\t\ttime_counter:_Endianness = \"little\" ;\n",
      "\tdouble time_counter_bounds(time_counter, axis_nbounds) ;\n",
      "\t\ttime_counter_bounds:cell_methods = \"time_counter: mean\" ;\n",
      "\t\ttime_counter_bounds:_Storage = \"chunked\" ;\n",
      "\t\ttime_counter_bounds:_ChunkSizes = 1, 2 ;\n",
      "\t\ttime_counter_bounds:_Endianness = \"little\" ;\n",
      "\tfloat votemper(time_counter, deptht, y, x) ;\n",
      "\t\tvotemper:standard_name = \"sea_water_potential_temperature\" ;\n",
      "\t\tvotemper:long_name = \"temperature\" ;\n",
      "\t\tvotemper:units = \"degC\" ;\n",
      "\t\tvotemper:online_operation = \"average\" ;\n",
      "\t\tvotemper:interval_operation = \"360 s\" ;\n",
      "\t\tvotemper:interval_write = \"1 d\" ;\n",
      "\t\tvotemper:cell_methods = \"time: mean (interval: 360 s) time_counter: mean\" ;\n",
      "\t\tvotemper:_FillValue = 1.e+20f ;\n",
      "\t\tvotemper:missing_value = 1.e+20f ;\n",
      "\t\tvotemper:coordinates = \"time_centered nav_lat nav_lon\" ;\n",
      "\t\tvotemper:_Storage = \"chunked\" ;\n",
      "\t\tvotemper:_ChunkSizes = 1, 1, 2499, 2404 ;\n",
      "\t\tvotemper:_Endianness = \"little\" ;\n",
      "\tfloat vosaline(time_counter, deptht, y, x) ;\n",
      "\t\tvosaline:standard_name = \"sea_water_practical_salinity\" ;\n",
      "\t\tvosaline:long_name = \"salinity\" ;\n",
      "\t\tvosaline:units = \"1e-3\" ;\n",
      "\t\tvosaline:online_operation = \"average\" ;\n",
      "\t\tvosaline:interval_operation = \"360 s\" ;\n",
      "\t\tvosaline:interval_write = \"1 d\" ;\n",
      "\t\tvosaline:cell_methods = \"time: mean (interval: 360 s) time_counter: mean\" ;\n",
      "\t\tvosaline:_FillValue = 1.e+20f ;\n",
      "\t\tvosaline:missing_value = 1.e+20f ;\n",
      "\t\tvosaline:coordinates = \"time_centered nav_lat nav_lon\" ;\n",
      "\t\tvosaline:_Storage = \"chunked\" ;\n",
      "\t\tvosaline:_ChunkSizes = 1, 1, 2499, 2404 ;\n",
      "\t\tvosaline:_Endianness = \"little\" ;\n",
      "\tfloat sosstsst(time_counter, y, x) ;\n",
      "\t\tsosstsst:standard_name = \"sea_surface_temperature\" ;\n",
      "\t\tsosstsst:long_name = \"sea surface temperature\" ;\n",
      "\t\tsosstsst:units = \"degC\" ;\n",
      "\t\tsosstsst:online_operation = \"average\" ;\n",
      "\t\tsosstsst:interval_operation = \"360 s\" ;\n",
      "\t\tsosstsst:interval_write = \"1 d\" ;\n",
      "\t\tsosstsst:cell_methods = \"time: mean (interval: 360 s) time_counter: mean\" ;\n",
      "\t\tsosstsst:_FillValue = 1.e+20f ;\n",
      "\t\tsosstsst:missing_value = 1.e+20f ;\n",
      "\t\tsosstsst:coordinates = \"time_centered nav_lat nav_lon\" ;\n",
      "\t\tsosstsst:_Storage = \"chunked\" ;\n",
      "\t\tsosstsst:_ChunkSizes = 1, 2499, 2404 ;\n",
      "\t\tsosstsst:_Endianness = \"little\" ;\n",
      "\tfloat sosaline(time_counter, y, x) ;\n",
      "\t\tsosaline:standard_name = \"sea_surface_salinity\" ;\n",
      "\t\tsosaline:long_name = \"sea surface salinity\" ;\n",
      "\t\tsosaline:units = \"1e-3\" ;\n",
      "\t\tsosaline:online_operation = \"average\" ;\n",
      "\t\tsosaline:interval_operation = \"360 s\" ;\n",
      "\t\tsosaline:interval_write = \"1 d\" ;\n",
      "\t\tsosaline:cell_methods = \"time: mean (interval: 360 s) time_counter: mean\" ;\n",
      "\t\tsosaline:_FillValue = 1.e+20f ;\n",
      "\t\tsosaline:missing_value = 1.e+20f ;\n",
      "\t\tsosaline:coordinates = \"time_centered nav_lat nav_lon\" ;\n",
      "\t\tsosaline:_Storage = \"chunked\" ;\n",
      "\t\tsosaline:_ChunkSizes = 1, 2499, 2404 ;\n",
      "\t\tsosaline:_Endianness = \"little\" ;\n",
      "\tfloat sossheig(time_counter, y, x) ;\n",
      "\t\tsossheig:standard_name = \"sea_surface_height_above_geoid\" ;\n",
      "\t\tsossheig:long_name = \"sea surface height\" ;\n",
      "\t\tsossheig:units = \"m\" ;\n",
      "\t\tsossheig:online_operation = \"average\" ;\n",
      "\t\tsossheig:interval_operation = \"360 s\" ;\n",
      "\t\tsossheig:interval_write = \"1 d\" ;\n",
      "\t\tsossheig:cell_methods = \"time: mean (interval: 360 s) time_counter: mean\" ;\n",
      "\t\tsossheig:_FillValue = 1.e+20f ;\n",
      "\t\tsossheig:missing_value = 1.e+20f ;\n",
      "\t\tsossheig:coordinates = \"time_centered nav_lat nav_lon\" ;\n",
      "\t\tsossheig:_Storage = \"chunked\" ;\n",
      "\t\tsossheig:_ChunkSizes = 1, 2499, 2404 ;\n",
      "\t\tsossheig:_Endianness = \"little\" ;\n",
      "\tfloat sorunoff(time_counter, y, x) ;\n",
      "\t\tsorunoff:standard_name = \"water_flux_into_sea_water_from_rivers\" ;\n",
      "\t\tsorunoff:long_name = \"River Runoffs\" ;\n",
      "\t\tsorunoff:units = \"kg/m2/s\" ;\n",
      "\t\tsorunoff:online_operation = \"average\" ;\n",
      "\t\tsorunoff:interval_operation = \"1080 s\" ;\n",
      "\t\tsorunoff:interval_write = \"1 d\" ;\n",
      "\t\tsorunoff:cell_methods = \"time: mean (interval: 1080 s) time_counter: mean\" ;\n",
      "\t\tsorunoff:_FillValue = 1.e+20f ;\n",
      "\t\tsorunoff:missing_value = 1.e+20f ;\n",
      "\t\tsorunoff:coordinates = \"time_centered nav_lat nav_lon\" ;\n",
      "\t\tsorunoff:_Storage = \"chunked\" ;\n",
      "\t\tsorunoff:_ChunkSizes = 1, 2499, 2404 ;\n",
      "\t\tsorunoff:_Endianness = \"little\" ;\n",
      "\tfloat somxl010(time_counter, y, x) ;\n",
      "\t\tsomxl010:standard_name = \"ocean_mixed_layer_thickness_defined_by_sigma_theta\" ;\n",
      "\t\tsomxl010:long_name = \"Mixed Layer Depth (dsigma = 0.01 wrt 10m)\" ;\n",
      "\t\tsomxl010:units = \"m\" ;\n",
      "\t\tsomxl010:online_operation = \"average\" ;\n",
      "\t\tsomxl010:interval_operation = \"360 s\" ;\n",
      "\t\tsomxl010:interval_write = \"1 d\" ;\n",
      "\t\tsomxl010:cell_methods = \"time: mean (interval: 360 s) time_counter: mean\" ;\n",
      "\t\tsomxl010:_FillValue = 1.e+20f ;\n",
      "\t\tsomxl010:missing_value = 1.e+20f ;\n",
      "\t\tsomxl010:coordinates = \"time_centered nav_lat nav_lon\" ;\n",
      "\t\tsomxl010:_Storage = \"chunked\" ;\n",
      "\t\tsomxl010:_ChunkSizes = 1, 2499, 2404 ;\n",
      "\t\tsomxl010:_Endianness = \"little\" ;\n",
      "\tfloat sowaflup(time_counter, y, x) ;\n",
      "\t\tsowaflup:standard_name = \"water_flux_out_of_sea_ice_and_sea_water\" ;\n",
      "\t\tsowaflup:long_name = \"Net Upward Water Flux\" ;\n",
      "\t\tsowaflup:units = \"kg/m2/s\" ;\n",
      "\t\tsowaflup:online_operation = \"average\" ;\n",
      "\t\tsowaflup:interval_operation = \"1080 s\" ;\n",
      "\t\tsowaflup:interval_write = \"1 d\" ;\n",
      "\t\tsowaflup:cell_methods = \"time: mean (interval: 1080 s) time_counter: mean\" ;\n",
      "\t\tsowaflup:_FillValue = 1.e+20f ;\n",
      "\t\tsowaflup:missing_value = 1.e+20f ;\n",
      "\t\tsowaflup:coordinates = \"time_centered nav_lat nav_lon\" ;\n",
      "\t\tsowaflup:_Storage = \"chunked\" ;\n",
      "\t\tsowaflup:_ChunkSizes = 1, 2499, 2404 ;\n",
      "\t\tsowaflup:_Endianness = \"little\" ;\n",
      "\tfloat soshfldo(time_counter, y, x) ;\n",
      "\t\tsoshfldo:standard_name = \"net_downward_shortwave_flux_at_sea_water_surface\" ;\n",
      "\t\tsoshfldo:long_name = \"Shortwave Radiation\" ;\n",
      "\t\tsoshfldo:units = \"W/m2\" ;\n",
      "\t\tsoshfldo:online_operation = \"average\" ;\n",
      "\t\tsoshfldo:interval_operation = \"1080 s\" ;\n",
      "\t\tsoshfldo:interval_write = \"1 d\" ;\n",
      "\t\tsoshfldo:cell_methods = \"time: mean (interval: 1080 s) time_counter: mean\" ;\n",
      "\t\tsoshfldo:_FillValue = 1.e+20f ;\n",
      "\t\tsoshfldo:missing_value = 1.e+20f ;\n",
      "\t\tsoshfldo:coordinates = \"time_centered nav_lat nav_lon\" ;\n",
      "\t\tsoshfldo:_Storage = \"chunked\" ;\n",
      "\t\tsoshfldo:_ChunkSizes = 1, 2499, 2404 ;\n",
      "\t\tsoshfldo:_Endianness = \"little\" ;\n",
      "\tfloat sohefldo(time_counter, y, x) ;\n",
      "\t\tsohefldo:standard_name = \"surface_downward_heat_flux_in_sea_water\" ;\n",
      "\t\tsohefldo:long_name = \"Net Downward Heat Flux\" ;\n",
      "\t\tsohefldo:units = \"W/m2\" ;\n",
      "\t\tsohefldo:online_operation = \"average\" ;\n",
      "\t\tsohefldo:interval_operation = \"1080 s\" ;\n",
      "\t\tsohefldo:interval_write = \"1 d\" ;\n",
      "\t\tsohefldo:cell_methods = \"time: mean (interval: 1080 s) time_counter: mean\" ;\n",
      "\t\tsohefldo:_FillValue = 1.e+20f ;\n",
      "\t\tsohefldo:missing_value = 1.e+20f ;\n",
      "\t\tsohefldo:coordinates = \"time_centered nav_lat nav_lon\" ;\n",
      "\t\tsohefldo:_Storage = \"chunked\" ;\n",
      "\t\tsohefldo:_ChunkSizes = 1, 2499, 2404 ;\n",
      "\t\tsohefldo:_Endianness = \"little\" ;\n",
      "\tfloat somixhgt(time_counter, y, x) ;\n",
      "\t\tsomixhgt:standard_name = \"ocean_mixed_layer_thickness_defined_by_vertical_tracer_diffusivity\" ;\n",
      "\t\tsomixhgt:long_name = \"Turbocline depth (Kz = 5e-4)\" ;\n",
      "\t\tsomixhgt:units = \"m\" ;\n",
      "\t\tsomixhgt:online_operation = \"average\" ;\n",
      "\t\tsomixhgt:interval_operation = \"360 s\" ;\n",
      "\t\tsomixhgt:interval_write = \"1 d\" ;\n",
      "\t\tsomixhgt:cell_methods = \"time: mean (interval: 360 s) time_counter: mean\" ;\n",
      "\t\tsomixhgt:_FillValue = 1.e+20f ;\n",
      "\t\tsomixhgt:missing_value = 1.e+20f ;\n",
      "\t\tsomixhgt:coordinates = \"time_centered nav_lat nav_lon\" ;\n",
      "\t\tsomixhgt:_Storage = \"chunked\" ;\n",
      "\t\tsomixhgt:_ChunkSizes = 1, 2499, 2404 ;\n",
      "\t\tsomixhgt:_Endianness = \"little\" ;\n",
      "\tfloat sowindsp(time_counter, y, x) ;\n",
      "\t\tsowindsp:standard_name = \"wind_speed\" ;\n",
      "\t\tsowindsp:long_name = \"wind speed module\" ;\n",
      "\t\tsowindsp:units = \"m/s\" ;\n",
      "\t\tsowindsp:online_operation = \"average\" ;\n",
      "\t\tsowindsp:interval_operation = \"1080 s\" ;\n",
      "\t\tsowindsp:interval_write = \"1 d\" ;\n",
      "\t\tsowindsp:cell_methods = \"time: mean (interval: 1080 s) time_counter: mean\" ;\n",
      "\t\tsowindsp:_FillValue = 1.e+20f ;\n",
      "\t\tsowindsp:missing_value = 1.e+20f ;\n",
      "\t\tsowindsp:coordinates = \"time_centered nav_lat nav_lon\" ;\n",
      "\t\tsowindsp:_Storage = \"chunked\" ;\n",
      "\t\tsowindsp:_ChunkSizes = 1, 2499, 2404 ;\n",
      "\t\tsowindsp:_Endianness = \"little\" ;\n",
      "\tfloat sohefldp(time_counter, y, x) ;\n",
      "\t\tsohefldp:standard_name = \"heat_flux_into_sea_water_due_to_newtonian_relaxation\" ;\n",
      "\t\tsohefldp:long_name = \"Surface Heat Flux: Damping\" ;\n",
      "\t\tsohefldp:units = \"W/m2\" ;\n",
      "\t\tsohefldp:online_operation = \"average\" ;\n",
      "\t\tsohefldp:interval_operation = \"1080 s\" ;\n",
      "\t\tsohefldp:interval_write = \"1 d\" ;\n",
      "\t\tsohefldp:cell_methods = \"time: mean (interval: 1080 s) time_counter: mean\" ;\n",
      "\t\tsohefldp:_FillValue = 1.e+20f ;\n",
      "\t\tsohefldp:missing_value = 1.e+20f ;\n",
      "\t\tsohefldp:coordinates = \"time_centered nav_lat nav_lon\" ;\n",
      "\t\tsohefldp:_Storage = \"chunked\" ;\n",
      "\t\tsohefldp:_ChunkSizes = 1, 2499, 2404 ;\n",
      "\t\tsohefldp:_Endianness = \"little\" ;\n",
      "\tfloat sowafldp(time_counter, y, x) ;\n",
      "\t\tsowafldp:standard_name = \"water_flux_out_of_sea_water_due_to_newtonian_relaxation\" ;\n",
      "\t\tsowafldp:long_name = \"Surface Water Flux: Damping\" ;\n",
      "\t\tsowafldp:units = \"kg/m2/s\" ;\n",
      "\t\tsowafldp:online_operation = \"average\" ;\n",
      "\t\tsowafldp:interval_operation = \"1080 s\" ;\n",
      "\t\tsowafldp:interval_write = \"1 d\" ;\n",
      "\t\tsowafldp:cell_methods = \"time: mean (interval: 1080 s) time_counter: mean\" ;\n",
      "\t\tsowafldp:_FillValue = 1.e+20f ;\n",
      "\t\tsowafldp:missing_value = 1.e+20f ;\n",
      "\t\tsowafldp:coordinates = \"time_centered nav_lat nav_lon\" ;\n",
      "\t\tsowafldp:_Storage = \"chunked\" ;\n",
      "\t\tsowafldp:_ChunkSizes = 1, 2499, 2404 ;\n",
      "\t\tsowafldp:_Endianness = \"little\" ;\n",
      "\tfloat sobowlin(time_counter, y, x) ;\n",
      "\t\tsobowlin:standard_name = \"ocean_mixed_layer_thickness_defined_by_sigma_theta\" ;\n",
      "\t\tsobowlin:long_name = \"Mixed Layer Depth (dsigma = 0.01 wrt 10m)\" ;\n",
      "\t\tsobowlin:units = \"m\" ;\n",
      "\t\tsobowlin:online_operation = \"maximum\" ;\n",
      "\t\tsobowlin:interval_operation = \"360 s\" ;\n",
      "\t\tsobowlin:interval_write = \"1 d\" ;\n",
      "\t\tsobowlin:cell_methods = \"time: maximum (interval: 360 s) time_counter: mean\" ;\n",
      "\t\tsobowlin:_FillValue = 1.e+20f ;\n",
      "\t\tsobowlin:missing_value = 1.e+20f ;\n",
      "\t\tsobowlin:coordinates = \"time_centered nav_lat nav_lon\" ;\n",
      "\t\tsobowlin:_Storage = \"chunked\" ;\n",
      "\t\tsobowlin:_ChunkSizes = 1, 2499, 2404 ;\n",
      "\t\tsobowlin:_Endianness = \"little\" ;\n",
      "\n",
      "// global attributes:\n",
      "\t\t:name = \"/p/scratch/viking/schwarzkopf1/VIKING20X.L46/VIKING20X.L46-KFS003-S/1_VIKING20X.L46-KFS003_1d_19580101_19581231_grid_T\" ;\n",
      "\t\t:description = \"ocean T grid variables\" ;\n",
      "\t\t:title = \"ocean T grid variables\" ;\n",
      "\t\t:Conventions = \"CF-1.6\" ;\n",
      "\t\t:timeStamp = \"2020-Dec-09 15:21:46 GMT\" ;\n",
      "\t\t:uuid = \"3474e11c-2e72-48fc-9ff2-93332382f9a5\" ;\n",
      "\t\t:history = \"Mon Dec 21 12:10:23 2020: ncrcat 1_VIKING20X.L46-KFS003_1m_1958_01_grid_T.nc 1_VIKING20X.L46-KFS003_1m_1958_02_grid_T.nc 1_VIKING20X.L46-KFS003_1m_1958_03_grid_T.nc 1_VIKING20X.L46-KFS003_1m_1958_04_grid_T.nc 1_VIKING20X.L46-KFS003_1m_1958_05_grid_T.nc 1_VIKING20X.L46-KFS003_1m_1958_06_grid_T.nc 1_VIKING20X.L46-KFS003_1m_1958_07_grid_T.nc 1_VIKING20X.L46-KFS003_1m_1958_08_grid_T.nc 1_VIKING20X.L46-KFS003_1m_1958_09_grid_T.nc 1_VIKING20X.L46-KFS003_1m_1958_10_grid_T.nc 1_VIKING20X.L46-KFS003_1m_1958_11_grid_T.nc 1_VIKING20X.L46-KFS003_1m_1958_12_grid_T.nc 1_VIKING20X.L46-KFS003_1m_19580101_19581231_grid_T.nc\\nMon Dec 21 11:32:37 2020: ncra -F -d time_counter,1,31 ../1_VIKING20X.L46-KFS003_1d_19580101_19581231_grid_T.nc 1_VIKING20X.L46-KFS003_1m_1958_01_grid_T.nc\" ;\n",
      "\t\t:NCO = \"netCDF Operators version 4.9.6 (Homepage = http://nco.sf.net, Code = http://github.com/nco/nco)\" ;\n",
      "\t\t:_NCProperties = \"version=2,netcdf=4.7.4,hdf5=1.10.6\" ;\n",
      "\t\t:_SuperblockVersion = 0 ;\n",
      "\t\t:_IsNetcdf4 = 1 ;\n",
      "\t\t:_Format = \"netCDF-4\" ;\n",
      "}\n"
     ]
    }
   ],
   "source": [
    "!ncdump -s -h \"$source_path/$example_file\""
   ]
  },
  {
   "cell_type": "markdown",
   "id": "broke-qatar",
   "metadata": {},
   "source": [
    "Open example file,"
   ]
  },
  {
   "cell_type": "code",
   "execution_count": 12,
   "id": "separate-necklace",
   "metadata": {},
   "outputs": [],
   "source": [
    "original_data = xarray.open_dataset(source_path+'/'+example_file)[['votemper', 'vosaline']]"
   ]
  },
  {
   "cell_type": "code",
   "execution_count": 13,
   "id": "expanded-terry",
   "metadata": {},
   "outputs": [
    {
     "data": {
      "text/plain": [
       "{'unlimited_dims': {'time_counter'},\n",
       " 'source': '/gxfs_work1/geomar/smomw355/model_data/ocean-only/VIKING20X.L46-KFS003/nemo/output/1_VIKING20X.L46-KFS003_1m_19580101_19581231_grid_T.nc'}"
      ]
     },
     "execution_count": 13,
     "metadata": {},
     "output_type": "execute_result"
    }
   ],
   "source": [
    "original_data.encoding"
   ]
  },
  {
   "cell_type": "code",
   "execution_count": 14,
   "id": "raising-moderator",
   "metadata": {},
   "outputs": [
    {
     "data": {
      "text/plain": [
       "{'zlib': False,\n",
       " 'shuffle': False,\n",
       " 'complevel': 0,\n",
       " 'fletcher32': False,\n",
       " 'contiguous': False,\n",
       " 'chunksizes': (1, 1, 2499, 2404),\n",
       " 'source': '/gxfs_work1/geomar/smomw355/model_data/ocean-only/VIKING20X.L46-KFS003/nemo/output/1_VIKING20X.L46-KFS003_1m_19580101_19581231_grid_T.nc',\n",
       " 'original_shape': (12, 46, 2499, 2404),\n",
       " 'dtype': dtype('float32'),\n",
       " 'missing_value': 1e+20,\n",
       " '_FillValue': 1e+20,\n",
       " 'coordinates': 'time_centered nav_lat nav_lon'}"
      ]
     },
     "execution_count": 14,
     "metadata": {},
     "output_type": "execute_result"
    }
   ],
   "source": [
    "original_data.votemper.encoding"
   ]
  },
  {
   "cell_type": "code",
   "execution_count": 15,
   "id": "copyrighted-curtis",
   "metadata": {},
   "outputs": [
    {
     "data": {
      "text/plain": [
       "{'zlib': False,\n",
       " 'shuffle': False,\n",
       " 'complevel': 0,\n",
       " 'fletcher32': False,\n",
       " 'contiguous': False,\n",
       " 'chunksizes': (1, 1, 2499, 2404),\n",
       " 'source': '/gxfs_work1/geomar/smomw355/model_data/ocean-only/VIKING20X.L46-KFS003/nemo/output/1_VIKING20X.L46-KFS003_1m_19580101_19581231_grid_T.nc',\n",
       " 'original_shape': (12, 46, 2499, 2404),\n",
       " 'dtype': dtype('float32'),\n",
       " 'missing_value': 1e+20,\n",
       " '_FillValue': 1e+20,\n",
       " 'coordinates': 'time_centered nav_lat nav_lon'}"
      ]
     },
     "execution_count": 15,
     "metadata": {},
     "output_type": "execute_result"
    }
   ],
   "source": [
    "original_data.vosaline.encoding"
   ]
  },
  {
   "cell_type": "code",
   "execution_count": 16,
   "id": "duplicate-richmond",
   "metadata": {},
   "outputs": [
    {
     "name": "stdout",
     "output_type": "stream",
     "text": [
      "CPU times: user 1.22 s, sys: 394 ms, total: 1.61 s\n",
      "Wall time: 2.79 s\n"
     ]
    },
    {
     "data": {
      "text/plain": [
       "<matplotlib.collections.QuadMesh at 0x14bca771a6d0>"
      ]
     },
     "execution_count": 16,
     "metadata": {},
     "output_type": "execute_result"
    },
    {
     "data": {
      "image/png": "[encoded data removed]",
      "text/plain": [
       "<Figure size 432x288 with 2 Axes>"
      ]
     },
     "metadata": {
      "needs_background": "light"
     },
     "output_type": "display_data"
    }
   ],
   "source": [
    "%time original_data.votemper.isel(deptht=0).mean('time_counter').plot()"
   ]
  },
  {
   "cell_type": "code",
   "execution_count": 17,
   "id": "ordinary-pilot",
   "metadata": {},
   "outputs": [
    {
     "name": "stdout",
     "output_type": "stream",
     "text": [
      "CPU times: user 1.04 s, sys: 307 ms, total: 1.35 s\n",
      "Wall time: 2.3 s\n"
     ]
    },
    {
     "data": {
      "text/plain": [
       "<matplotlib.collections.QuadMesh at 0x14bca76f9eb0>"
      ]
     },
     "execution_count": 17,
     "metadata": {},
     "output_type": "execute_result"
    },
    {
     "data": {
      "image/png": "[encoded data removed]",
      "text/plain": [
       "<Figure size 432x288 with 2 Axes>"
      ]
     },
     "metadata": {
      "needs_background": "light"
     },
     "output_type": "display_data"
    }
   ],
   "source": [
    "%time original_data.vosaline.isel(deptht=0).mean('time_counter').plot()"
   ]
  },
  {
   "cell_type": "markdown",
   "id": "amended-saudi",
   "metadata": {},
   "source": [
    "Specify a target chunk size,"
   ]
  },
  {
   "cell_type": "code",
   "execution_count": 18,
   "id": "amber-reunion",
   "metadata": {},
   "outputs": [],
   "source": [
    "# this one fits nicely to the original chunks and is very speedy...\n",
    "original_data_rechunked = original_data.chunk({\n",
    "    'time_counter': 1,\n",
    "    'deptht': None, 'y': None, 'x': None,\n",
    "})"
   ]
  },
  {
   "cell_type": "code",
   "execution_count": 19,
   "id": "binary-greeting",
   "metadata": {},
   "outputs": [],
   "source": [
    "# this one might already be useful...\n",
    "original_data_rechunked_not_used_here = original_data.chunk({\n",
    "    'time_counter': 2,\n",
    "    'deptht': None, # full size\n",
    "    'y': 750, 'x': 750,\n",
    "})"
   ]
  },
  {
   "cell_type": "markdown",
   "id": "headed-purple",
   "metadata": {},
   "source": [
    "Check that chunk size is compatible with Dask workers,"
   ]
  },
  {
   "cell_type": "code",
   "execution_count": 20,
   "id": "divided-national",
   "metadata": {},
   "outputs": [],
   "source": [
    "def print_chunk_size(da, dtype=numpy.float32):\n",
    "    target_chunk_size=numpy.prod(\n",
    "        [max(c) for c in list(da.chunks)]\n",
    "    )*numpy.zeros(1, dtype=dtype).nbytes/1e6 # in MB\n",
    "    print(f\"{target_chunk_size} MB\")"
   ]
  },
  {
   "cell_type": "code",
   "execution_count": 21,
   "id": "eligible-hobby",
   "metadata": {},
   "outputs": [
    {
     "data": {
      "text/plain": [
       "dtype('float32')"
      ]
     },
     "execution_count": 21,
     "metadata": {},
     "output_type": "execute_result"
    }
   ],
   "source": [
    "original_data_rechunked.vosaline.dtype"
   ]
  },
  {
   "cell_type": "code",
   "execution_count": 22,
   "id": "under-connection",
   "metadata": {},
   "outputs": [
    {
     "name": "stdout",
     "output_type": "stream",
     "text": [
      "1105.397664 MB\n"
     ]
    }
   ],
   "source": [
    "print_chunk_size(original_data_rechunked.vosaline, numpy.float32)"
   ]
  },
  {
   "cell_type": "code",
   "execution_count": 23,
   "id": "linear-determination",
   "metadata": {},
   "outputs": [
    {
     "data": {
      "text/plain": [
       "dtype('float32')"
      ]
     },
     "execution_count": 23,
     "metadata": {},
     "output_type": "execute_result"
    }
   ],
   "source": [
    "original_data_rechunked_not_used_here.vosaline.dtype"
   ]
  },
  {
   "cell_type": "code",
   "execution_count": 24,
   "id": "neutral-gospel",
   "metadata": {},
   "outputs": [
    {
     "name": "stdout",
     "output_type": "stream",
     "text": [
      "207.0 MB\n"
     ]
    }
   ],
   "source": [
    "print_chunk_size(original_data_rechunked_not_used_here.vosaline, numpy.float32)"
   ]
  },
  {
   "cell_type": "code",
   "execution_count": 25,
   "id": "handled-shanghai",
   "metadata": {},
   "outputs": [
    {
     "name": "stdout",
     "output_type": "stream",
     "text": [
      "536.8709120000001 MB\n"
     ]
    }
   ],
   "source": [
    "worker_mem = cluster.worker_spec[0]['options']['memory_limit']/1e9 # in GB\n",
    "worker_cpus = cluster.worker_spec[0]['options']['nthreads']\n",
    "this_is_several_times = 10\n",
    "max_chunk_size = (worker_mem/worker_cpus)/this_is_several_times*1e3\n",
    "print(f\"{max_chunk_size} MB\")"
   ]
  },
  {
   "cell_type": "markdown",
   "id": "impressed-married",
   "metadata": {},
   "source": [
    "Write to disk with an explicit variable encoding,"
   ]
  },
  {
   "cell_type": "code",
   "execution_count": 26,
   "id": "worse-merchandise",
   "metadata": {},
   "outputs": [],
   "source": [
    "original_data_rechunked.encoding = {}"
   ]
  },
  {
   "cell_type": "code",
   "execution_count": 27,
   "id": "affecting-baghdad",
   "metadata": {},
   "outputs": [
    {
     "name": "stdout",
     "output_type": "stream",
     "text": [
      "CPU times: user 368 ms, sys: 68.5 ms, total: 437 ms\n",
      "Wall time: 9.51 s\n"
     ]
    },
    {
     "data": {
      "text/plain": [
       "<xarray.backends.zarr.ZarrStore at 0x14bd6dcef1c0>"
      ]
     },
     "execution_count": 27,
     "metadata": {},
     "output_type": "execute_result"
    }
   ],
   "source": [
    "%%time\n",
    "original_data_rechunked.to_zarr(\n",
    "    store=target_path+'/'+target_prefix+'.zarr', mode='w',\n",
    "    encoding={\n",
    "        'votemper': {'dtype': 'float32'},\n",
    "        'vosaline': {'dtype': 'float32'}\n",
    "    },\n",
    ")"
   ]
  },
  {
   "cell_type": "markdown",
   "id": "tracked-azerbaijan",
   "metadata": {},
   "source": [
    "Open Zarr store,"
   ]
  },
  {
   "cell_type": "code",
   "execution_count": 28,
   "id": "appointed-vitamin",
   "metadata": {},
   "outputs": [],
   "source": [
    "zarr_store = xarray.open_zarr(\n",
    "    store=target_path+'/'+target_prefix+'.zarr'\n",
    ")"
   ]
  },
  {
   "cell_type": "code",
   "execution_count": 29,
   "id": "twenty-ultimate",
   "metadata": {},
   "outputs": [
    {
     "data": {
      "text/plain": [
       "{'source': '/gxfs_work1/geomar/smomw260/github/NEMO-to-cloud/1_VIKING20X.L46-KFS003_1m_grid_T.zarr'}"
      ]
     },
     "execution_count": 29,
     "metadata": {},
     "output_type": "execute_result"
    }
   ],
   "source": [
    "zarr_store.encoding"
   ]
  },
  {
   "cell_type": "code",
   "execution_count": 30,
   "id": "excellent-latvia",
   "metadata": {},
   "outputs": [
    {
     "data": {
      "text/plain": [
       "{'chunks': (1, 46, 2499, 2404),\n",
       " 'preferred_chunks': {'time_counter': 1, 'deptht': 46, 'y': 2499, 'x': 2404},\n",
       " 'compressor': Blosc(cname='lz4', clevel=5, shuffle=SHUFFLE, blocksize=0),\n",
       " 'filters': None,\n",
       " '_FillValue': nan,\n",
       " 'dtype': dtype('float32'),\n",
       " 'coordinates': 'time_centered nav_lat nav_lon'}"
      ]
     },
     "execution_count": 30,
     "metadata": {},
     "output_type": "execute_result"
    }
   ],
   "source": [
    "zarr_store.votemper.encoding"
   ]
  },
  {
   "cell_type": "code",
   "execution_count": 31,
   "id": "blind-cleaning",
   "metadata": {},
   "outputs": [
    {
     "data": {
      "text/plain": [
       "{'chunks': (1, 46, 2499, 2404),\n",
       " 'preferred_chunks': {'time_counter': 1, 'deptht': 46, 'y': 2499, 'x': 2404},\n",
       " 'compressor': Blosc(cname='lz4', clevel=5, shuffle=SHUFFLE, blocksize=0),\n",
       " 'filters': None,\n",
       " '_FillValue': nan,\n",
       " 'dtype': dtype('float32'),\n",
       " 'coordinates': 'time_centered nav_lat nav_lon'}"
      ]
     },
     "execution_count": 31,
     "metadata": {},
     "output_type": "execute_result"
    }
   ],
   "source": [
    "zarr_store.vosaline.encoding"
   ]
  },
  {
   "cell_type": "code",
   "execution_count": 32,
   "id": "demonstrated-explosion",
   "metadata": {},
   "outputs": [
    {
     "name": "stdout",
     "output_type": "stream",
     "text": [
      "CPU times: user 656 ms, sys: 129 ms, total: 785 ms\n",
      "Wall time: 1.98 s\n"
     ]
    },
    {
     "data": {
      "text/plain": [
       "<matplotlib.collections.QuadMesh at 0x14bca731ef10>"
      ]
     },
     "execution_count": 32,
     "metadata": {},
     "output_type": "execute_result"
    },
    {
     "data": {
      "image/png": "[encoded data removed]",
      "text/plain": [
       "<Figure size 432x288 with 2 Axes>"
      ]
     },
     "metadata": {
      "needs_background": "light"
     },
     "output_type": "display_data"
    }
   ],
   "source": [
    "%time zarr_store.votemper.isel(deptht=0).mean('time_counter').plot()"
   ]
  },
  {
   "cell_type": "code",
   "execution_count": 33,
   "id": "wicked-skiing",
   "metadata": {},
   "outputs": [
    {
     "name": "stdout",
     "output_type": "stream",
     "text": [
      "CPU times: user 657 ms, sys: 109 ms, total: 766 ms\n",
      "Wall time: 1.88 s\n"
     ]
    },
    {
     "data": {
      "text/plain": [
       "<matplotlib.collections.QuadMesh at 0x14bca726b3d0>"
      ]
     },
     "execution_count": 33,
     "metadata": {},
     "output_type": "execute_result"
    },
    {
     "data": {
      "image/png": "[encoded data removed]",
      "text/plain": [
       "<Figure size 432x288 with 2 Axes>"
      ]
     },
     "metadata": {
      "needs_background": "light"
     },
     "output_type": "display_data"
    }
   ],
   "source": [
    "%time zarr_store.vosaline.isel(deptht=0).mean('time_counter').plot()"
   ]
  },
  {
   "cell_type": "markdown",
   "id": "desirable-wrist",
   "metadata": {},
   "source": [
    "Save as netcdf again,"
   ]
  },
  {
   "cell_type": "code",
   "execution_count": 34,
   "id": "dynamic-classics",
   "metadata": {},
   "outputs": [
    {
     "name": "stdout",
     "output_type": "stream",
     "text": [
      "CPU times: user 444 ms, sys: 62 ms, total: 506 ms\n",
      "Wall time: 12.2 s\n"
     ]
    }
   ],
   "source": [
    "%time zarr_store.to_netcdf(target_path+'/'+target_prefix+'.nc')"
   ]
  },
  {
   "cell_type": "code",
   "execution_count": 35,
   "id": "spare-clark",
   "metadata": {},
   "outputs": [
    {
     "name": "stdout",
     "output_type": "stream",
     "text": [
      "netcdf \\1_VIKING20X.L46-KFS003_1m_grid_T {\n",
      "dimensions:\n",
      "\tdeptht = 46 ;\n",
      "\ty = 2499 ;\n",
      "\tx = 2404 ;\n",
      "\ttime_counter = 12 ;\n",
      "variables:\n",
      "\tfloat deptht(deptht) ;\n",
      "\t\tdeptht:_FillValue = NaNf ;\n",
      "\t\tdeptht:bounds = \"deptht_bounds\" ;\n",
      "\t\tdeptht:long_name = \"Vertical T levels\" ;\n",
      "\t\tdeptht:name = \"deptht\" ;\n",
      "\t\tdeptht:positive = \"down\" ;\n",
      "\t\tdeptht:units = \"m\" ;\n",
      "\t\tdeptht:_Storage = \"contiguous\" ;\n",
      "\t\tdeptht:_Endianness = \"little\" ;\n",
      "\tfloat nav_lat(y, x) ;\n",
      "\t\tnav_lat:_FillValue = NaNf ;\n",
      "\t\tnav_lat:long_name = \"Latitude\" ;\n",
      "\t\tnav_lat:standard_name = \"latitude\" ;\n",
      "\t\tnav_lat:units = \"degrees_north\" ;\n",
      "\t\tnav_lat:_Storage = \"contiguous\" ;\n",
      "\t\tnav_lat:_Endianness = \"little\" ;\n",
      "\tfloat nav_lon(y, x) ;\n",
      "\t\tnav_lon:_FillValue = NaNf ;\n",
      "\t\tnav_lon:long_name = \"Longitude\" ;\n",
      "\t\tnav_lon:standard_name = \"longitude\" ;\n",
      "\t\tnav_lon:units = \"degrees_east\" ;\n",
      "\t\tnav_lon:_Storage = \"contiguous\" ;\n",
      "\t\tnav_lon:_Endianness = \"little\" ;\n",
      "\tdouble time_centered(time_counter) ;\n",
      "\t\ttime_centered:_FillValue = NaN ;\n",
      "\t\ttime_centered:bounds = \"time_centered_bounds\" ;\n",
      "\t\ttime_centered:cell_methods = \"time_counter: mean\" ;\n",
      "\t\ttime_centered:long_name = \"Time axis\" ;\n",
      "\t\ttime_centered:standard_name = \"time\" ;\n",
      "\t\ttime_centered:time_origin = \"1900-01-01 00:00:00\" ;\n",
      "\t\ttime_centered:units = \"seconds since 1900-01-01\" ;\n",
      "\t\ttime_centered:calendar = \"gregorian\" ;\n",
      "\t\ttime_centered:_Storage = \"contiguous\" ;\n",
      "\t\ttime_centered:_Endianness = \"little\" ;\n",
      "\tdouble time_counter(time_counter) ;\n",
      "\t\ttime_counter:_FillValue = NaN ;\n",
      "\t\ttime_counter:axis = \"T\" ;\n",
      "\t\ttime_counter:bounds = \"time_counter_bounds\" ;\n",
      "\t\ttime_counter:cell_methods = \"time_counter: mean\" ;\n",
      "\t\ttime_counter:long_name = \"Time axis\" ;\n",
      "\t\ttime_counter:standard_name = \"time\" ;\n",
      "\t\ttime_counter:time_origin = \"1900-01-01 00:00:00\" ;\n",
      "\t\ttime_counter:units = \"seconds since 1900-01-01\" ;\n",
      "\t\ttime_counter:calendar = \"gregorian\" ;\n",
      "\t\ttime_counter:_Storage = \"contiguous\" ;\n",
      "\t\ttime_counter:_Endianness = \"little\" ;\n",
      "\tfloat vosaline(time_counter, deptht, y, x) ;\n",
      "\t\tvosaline:_FillValue = NaNf ;\n",
      "\t\tvosaline:cell_methods = \"time: mean (interval: 360 s) time_counter: mean\" ;\n",
      "\t\tvosaline:interval_operation = \"360 s\" ;\n",
      "\t\tvosaline:interval_write = \"1 d\" ;\n",
      "\t\tvosaline:long_name = \"salinity\" ;\n",
      "\t\tvosaline:online_operation = \"average\" ;\n",
      "\t\tvosaline:standard_name = \"sea_water_practical_salinity\" ;\n",
      "\t\tvosaline:units = \"1e-3\" ;\n",
      "\t\tvosaline:coordinates = \"time_centered nav_lat nav_lon\" ;\n",
      "\t\tvosaline:_Storage = \"contiguous\" ;\n",
      "\t\tvosaline:_Endianness = \"little\" ;\n",
      "\tfloat votemper(time_counter, deptht, y, x) ;\n",
      "\t\tvotemper:_FillValue = NaNf ;\n",
      "\t\tvotemper:cell_methods = \"time: mean (interval: 360 s) time_counter: mean\" ;\n",
      "\t\tvotemper:interval_operation = \"360 s\" ;\n",
      "\t\tvotemper:interval_write = \"1 d\" ;\n",
      "\t\tvotemper:long_name = \"temperature\" ;\n",
      "\t\tvotemper:online_operation = \"average\" ;\n",
      "\t\tvotemper:standard_name = \"sea_water_potential_temperature\" ;\n",
      "\t\tvotemper:units = \"degC\" ;\n",
      "\t\tvotemper:coordinates = \"time_centered nav_lat nav_lon\" ;\n",
      "\t\tvotemper:_Storage = \"contiguous\" ;\n",
      "\t\tvotemper:_Endianness = \"little\" ;\n",
      "\n",
      "// global attributes:\n",
      "\t\t:Conventions = \"CF-1.6\" ;\n",
      "\t\t:NCO = \"netCDF Operators version 4.9.6 (Homepage = http://nco.sf.net, Code = http://github.com/nco/nco)\" ;\n",
      "\t\t:description = \"ocean T grid variables\" ;\n",
      "\t\t:history = \"Mon Dec 21 12:10:23 2020: ncrcat 1_VIKING20X.L46-KFS003_1m_1958_01_grid_T.nc 1_VIKING20X.L46-KFS003_1m_1958_02_grid_T.nc 1_VIKING20X.L46-KFS003_1m_1958_03_grid_T.nc 1_VIKING20X.L46-KFS003_1m_1958_04_grid_T.nc 1_VIKING20X.L46-KFS003_1m_1958_05_grid_T.nc 1_VIKING20X.L46-KFS003_1m_1958_06_grid_T.nc 1_VIKING20X.L46-KFS003_1m_1958_07_grid_T.nc 1_VIKING20X.L46-KFS003_1m_1958_08_grid_T.nc 1_VIKING20X.L46-KFS003_1m_1958_09_grid_T.nc 1_VIKING20X.L46-KFS003_1m_1958_10_grid_T.nc 1_VIKING20X.L46-KFS003_1m_1958_11_grid_T.nc 1_VIKING20X.L46-KFS003_1m_1958_12_grid_T.nc 1_VIKING20X.L46-KFS003_1m_19580101_19581231_grid_T.nc\\nMon Dec 21 11:32:37 2020: ncra -F -d time_counter,1,31 ../1_VIKING20X.L46-KFS003_1d_19580101_19581231_grid_T.nc 1_VIKING20X.L46-KFS003_1m_1958_01_grid_T.nc\" ;\n",
      "\t\t:name = \"/p/scratch/viking/schwarzkopf1/VIKING20X.L46/VIKING20X.L46-KFS003-S/1_VIKING20X.L46-KFS003_1d_19580101_19581231_grid_T\" ;\n",
      "\t\t:timeStamp = \"2020-Dec-09 15:21:46 GMT\" ;\n",
      "\t\t:title = \"ocean T grid variables\" ;\n",
      "\t\t:uuid = \"3474e11c-2e72-48fc-9ff2-93332382f9a5\" ;\n",
      "\t\t:_NCProperties = \"version=2,netcdf=4.7.4,hdf5=1.10.6\" ;\n",
      "\t\t:_SuperblockVersion = 0 ;\n",
      "\t\t:_IsNetcdf4 = 1 ;\n",
      "\t\t:_Format = \"netCDF-4\" ;\n",
      "}\n"
     ]
    }
   ],
   "source": [
    "!ncdump -s -h \"$target_path/$target_prefix\".nc"
   ]
  },
  {
   "cell_type": "markdown",
   "id": "opponent-measure",
   "metadata": {},
   "source": [
    "From netcdf again,"
   ]
  },
  {
   "cell_type": "code",
   "execution_count": 36,
   "id": "adjacent-catalog",
   "metadata": {},
   "outputs": [],
   "source": [
    "netcdf_data = xarray.open_dataset(target_path+'/'+target_prefix+'.nc')"
   ]
  },
  {
   "cell_type": "code",
   "execution_count": 37,
   "id": "smart-analysis",
   "metadata": {},
   "outputs": [
    {
     "data": {
      "text/plain": [
       "{'unlimited_dims': set(),\n",
       " 'source': '/gxfs_work1/geomar/smomw260/github/NEMO-to-cloud/1_VIKING20X.L46-KFS003_1m_grid_T.nc'}"
      ]
     },
     "execution_count": 37,
     "metadata": {},
     "output_type": "execute_result"
    }
   ],
   "source": [
    "netcdf_data.encoding"
   ]
  },
  {
   "cell_type": "code",
   "execution_count": 38,
   "id": "south-deficit",
   "metadata": {},
   "outputs": [
    {
     "data": {
      "text/plain": [
       "{'zlib': False,\n",
       " 'shuffle': False,\n",
       " 'complevel': 0,\n",
       " 'fletcher32': False,\n",
       " 'contiguous': True,\n",
       " 'chunksizes': None,\n",
       " 'source': '/gxfs_work1/geomar/smomw260/github/NEMO-to-cloud/1_VIKING20X.L46-KFS003_1m_grid_T.nc',\n",
       " 'original_shape': (12, 46, 2499, 2404),\n",
       " 'dtype': dtype('float32'),\n",
       " '_FillValue': nan,\n",
       " 'coordinates': 'time_centered nav_lat nav_lon'}"
      ]
     },
     "execution_count": 38,
     "metadata": {},
     "output_type": "execute_result"
    }
   ],
   "source": [
    "netcdf_data.votemper.encoding"
   ]
  },
  {
   "cell_type": "code",
   "execution_count": 39,
   "id": "accessible-collins",
   "metadata": {},
   "outputs": [
    {
     "data": {
      "text/plain": [
       "{'zlib': False,\n",
       " 'shuffle': False,\n",
       " 'complevel': 0,\n",
       " 'fletcher32': False,\n",
       " 'contiguous': True,\n",
       " 'chunksizes': None,\n",
       " 'source': '/gxfs_work1/geomar/smomw260/github/NEMO-to-cloud/1_VIKING20X.L46-KFS003_1m_grid_T.nc',\n",
       " 'original_shape': (12, 46, 2499, 2404),\n",
       " 'dtype': dtype('float32'),\n",
       " '_FillValue': nan,\n",
       " 'coordinates': 'time_centered nav_lat nav_lon'}"
      ]
     },
     "execution_count": 39,
     "metadata": {},
     "output_type": "execute_result"
    }
   ],
   "source": [
    "netcdf_data.vosaline.encoding"
   ]
  },
  {
   "cell_type": "code",
   "execution_count": 40,
   "id": "hundred-casino",
   "metadata": {},
   "outputs": [
    {
     "name": "stdout",
     "output_type": "stream",
     "text": [
      "CPU times: user 836 ms, sys: 232 ms, total: 1.07 s\n",
      "Wall time: 1.19 s\n"
     ]
    },
    {
     "data": {
      "text/plain": [
       "<matplotlib.collections.QuadMesh at 0x14bca718c670>"
      ]
     },
     "execution_count": 40,
     "metadata": {},
     "output_type": "execute_result"
    },
    {
     "data": {
      "image/png": "[encoded data removed]",
      "text/plain": [
       "<Figure size 432x288 with 2 Axes>"
      ]
     },
     "metadata": {
      "needs_background": "light"
     },
     "output_type": "display_data"
    }
   ],
   "source": [
    "%time netcdf_data.votemper.isel(deptht=0).mean('time_counter').plot()"
   ]
  },
  {
   "cell_type": "code",
   "execution_count": 41,
   "id": "controlling-encyclopedia",
   "metadata": {},
   "outputs": [
    {
     "name": "stdout",
     "output_type": "stream",
     "text": [
      "CPU times: user 842 ms, sys: 230 ms, total: 1.07 s\n",
      "Wall time: 1.12 s\n"
     ]
    },
    {
     "data": {
      "text/plain": [
       "<matplotlib.collections.QuadMesh at 0x14bca705f400>"
      ]
     },
     "execution_count": 41,
     "metadata": {},
     "output_type": "execute_result"
    },
    {
     "data": {
      "image/png": "[encoded data removed]",
      "text/plain": [
       "<Figure size 432x288 with 2 Axes>"
      ]
     },
     "metadata": {
      "needs_background": "light"
     },
     "output_type": "display_data"
    }
   ],
   "source": [
    "%time netcdf_data.vosaline.isel(deptht=0).mean('time_counter').plot()"
   ]
  },
  {
   "cell_type": "markdown",
   "id": "defined-meeting",
   "metadata": {},
   "source": [
    "Python environment,"
   ]
  },
  {
   "cell_type": "code",
   "execution_count": 42,
   "id": "ordered-lightning",
   "metadata": {},
   "outputs": [
    {
     "name": "stdout",
     "output_type": "stream",
     "text": [
      "Package                       Version\n",
      "----------------------------- -------------------\n",
      "alembic                       1.5.8\n",
      "anyio                         2.2.0\n",
      "argon2-cffi                   20.1.0\n",
      "asciitree                     0.3.3\n",
      "async-generator               1.10\n",
      "attrs                         20.3.0\n",
      "Babel                         2.9.0\n",
      "backcall                      0.2.0\n",
      "backports.functools-lru-cache 1.6.1\n",
      "bleach                        3.3.0\n",
      "blinker                       1.4\n",
      "bokeh                         2.3.0\n",
      "brotlipy                      0.7.0\n",
      "certifi                       2020.12.5\n",
      "certipy                       0.1.3\n",
      "cffi                          1.14.5\n",
      "cftime                        1.4.1\n",
      "chardet                       4.0.0\n",
      "click                         7.1.2\n",
      "cloudpickle                   1.6.0\n",
      "conda                         4.9.2\n",
      "conda-package-handling        1.7.2\n",
      "cryptography                  3.4.6\n",
      "cycler                        0.10.0\n",
      "cytoolz                       0.11.0\n",
      "dask                          2021.3.1\n",
      "dask-jobqueue                 0.7.2\n",
      "decorator                     4.4.2\n",
      "defusedxml                    0.7.1\n",
      "distributed                   2021.3.1\n",
      "docrep                        0.2.7\n",
      "entrypoints                   0.3\n",
      "fasteners                     0.14.1\n",
      "fsspec                        0.8.7\n",
      "future                        0.18.2\n",
      "graphviz                      0.16\n",
      "greenlet                      1.0.0\n",
      "HeapDict                      1.0.1\n",
      "idna                          2.10\n",
      "importlib-metadata            3.7.3\n",
      "ipykernel                     5.5.0\n",
      "ipython                       7.21.0\n",
      "ipython-genutils              0.2.0\n",
      "jedi                          0.18.0\n",
      "Jinja2                        2.11.3\n",
      "json5                         0.9.5\n",
      "jsonschema                    3.2.0\n",
      "jupyter-client                6.1.12\n",
      "jupyter-core                  4.7.1\n",
      "jupyter-packaging             0.7.12\n",
      "jupyter-server                1.5.1\n",
      "jupyter-telemetry             0.1.0\n",
      "jupyterhub                    1.3.0\n",
      "jupyterlab                    3.0.12\n",
      "jupyterlab-pygments           0.1.2\n",
      "jupyterlab-server             2.3.0\n",
      "kiwisolver                    1.3.1\n",
      "locket                        0.2.0\n",
      "Mako                          1.1.4\n",
      "mamba                         0.9.1\n",
      "MarkupSafe                    1.1.1\n",
      "matplotlib                    3.4.1\n",
      "mistune                       0.8.4\n",
      "monotonic                     1.5\n",
      "msgpack                       1.0.2\n",
      "nbclassic                     0.2.6\n",
      "nbclient                      0.5.3\n",
      "nbconvert                     6.0.7\n",
      "nbformat                      5.1.2\n",
      "nest-asyncio                  1.4.3\n",
      "netCDF4                       1.5.6\n",
      "notebook                      6.2.0\n",
      "numcodecs                     0.7.3\n",
      "numpy                         1.20.2\n",
      "oauthlib                      3.0.1\n",
      "olefile                       0.46\n",
      "packaging                     20.9\n",
      "pamela                        1.0.0\n",
      "pandas                        1.2.3\n",
      "pandocfilters                 1.4.2\n",
      "parso                         0.8.1\n",
      "partd                         1.1.0\n",
      "pexpect                       4.8.0\n",
      "pickleshare                   0.7.5\n",
      "Pillow                        8.1.2\n",
      "pip                           21.0.1\n",
      "prometheus-client             0.9.0\n",
      "prompt-toolkit                3.0.18\n",
      "psutil                        5.8.0\n",
      "ptyprocess                    0.7.0\n",
      "pycosat                       0.6.3\n",
      "pycparser                     2.20\n",
      "pycurl                        7.43.0.6\n",
      "Pygments                      2.8.1\n",
      "PyJWT                         2.0.1\n",
      "pyOpenSSL                     20.0.1\n",
      "pyparsing                     2.4.7\n",
      "PyQt5                         5.12.3\n",
      "PyQt5-sip                     4.19.18\n",
      "PyQtChart                     5.12\n",
      "PyQtWebEngine                 5.12.1\n",
      "pyrsistent                    0.17.3\n",
      "PySocks                       1.7.1\n",
      "python-dateutil               2.8.1\n",
      "python-editor                 1.0.4\n",
      "python-json-logger            2.0.1\n",
      "pytz                          2021.1\n",
      "PyYAML                        5.4.1\n",
      "pyzmq                         22.0.3\n",
      "requests                      2.25.1\n",
      "ruamel-yaml-conda             0.15.80\n",
      "ruamel.yaml                   0.16.12\n",
      "ruamel.yaml.clib              0.2.2\n",
      "Send2Trash                    1.5.0\n",
      "setuptools                    49.6.0.post20210108\n",
      "six                           1.15.0\n",
      "sniffio                       1.2.0\n",
      "sortedcontainers              2.3.0\n",
      "SQLAlchemy                    1.4.3\n",
      "tblib                         1.7.0\n",
      "terminado                     0.9.3\n",
      "testpath                      0.4.4\n",
      "toolz                         0.11.1\n",
      "tornado                       6.1\n",
      "tqdm                          4.59.0\n",
      "traitlets                     5.0.5\n",
      "typing-extensions             3.7.4.3\n",
      "urllib3                       1.26.4\n",
      "wcwidth                       0.2.5\n",
      "webencodings                  0.5.1\n",
      "wheel                         0.36.2\n",
      "xarray                        0.17.0\n",
      "xgcm                          0.5.1\n",
      "xorca                         0.0.0\n",
      "zarr                          2.7.0\n",
      "zict                          2.0.0\n",
      "zipp                          3.4.1\n",
      "Note: you may need to restart the kernel to use updated packages.\n"
     ]
    }
   ],
   "source": [
    "pip list"
   ]
  },
  {
   "cell_type": "code",
   "execution_count": 43,
   "id": "retired-means",
   "metadata": {},
   "outputs": [
    {
     "name": "stdout",
     "output_type": "stream",
     "text": [
      "\n",
      "                  __    __    __    __\n",
      "                 /  \\  /  \\  /  \\  /  \\\n",
      "                /    \\/    \\/    \\/    \\\n",
      "███████████████/  /██/  /██/  /██/  /████████████████████████\n",
      "              /  / \\   / \\   / \\   / \\  \\____\n",
      "             /  /   \\_/   \\_/   \\_/   \\    o \\__,\n",
      "            / _/                       \\_____/  `\n",
      "            |/\n",
      "        ███╗   ███╗ █████╗ ███╗   ███╗██████╗  █████╗\n",
      "        ████╗ ████║██╔══██╗████╗ ████║██╔══██╗██╔══██╗\n",
      "        ██╔████╔██║███████║██╔████╔██║██████╔╝███████║\n",
      "        ██║╚██╔╝██║██╔══██║██║╚██╔╝██║██╔══██╗██╔══██║\n",
      "        ██║ ╚═╝ ██║██║  ██║██║ ╚═╝ ██║██████╔╝██║  ██║\n",
      "        ╚═╝     ╚═╝╚═╝  ╚═╝╚═╝     ╚═╝╚═════╝ ╚═╝  ╚═╝\n",
      "\n",
      "        mamba (0.9.1) supported by @QuantStack\n",
      "\n",
      "        GitHub:  https://github.com/mamba-org/mamba\n",
      "        Twitter: https://twitter.com/QuantStack\n",
      "\n",
      "█████████████████████████████████████████████████████████████\n",
      "\n",
      "# This file may be used to create an environment using:\n",
      "# $ conda create --name <env> --file <this file>\n",
      "# platform: linux-64\n",
      "@EXPLICIT\n",
      "https://conda.anaconda.org/conda-forge/linux-64/_libgcc_mutex-0.1-conda_forge.tar.bz2\n",
      "https://conda.anaconda.org/conda-forge/linux-64/ca-certificates-2020.12.5-ha878542_0.tar.bz2\n",
      "https://conda.anaconda.org/conda-forge/noarch/font-ttf-dejavu-sans-mono-2.37-hab24e00_0.tar.bz2\n",
      "https://conda.anaconda.org/conda-forge/noarch/font-ttf-inconsolata-2.001-hab24e00_0.tar.bz2\n",
      "https://conda.anaconda.org/conda-forge/noarch/font-ttf-source-code-pro-2.030-hab24e00_0.tar.bz2\n",
      "https://conda.anaconda.org/conda-forge/noarch/font-ttf-ubuntu-0.83-hab24e00_0.tar.bz2\n",
      "https://conda.anaconda.org/conda-forge/linux-64/ld_impl_linux-64-2.35.1-hea4e1c9_2.tar.bz2\n",
      "https://conda.anaconda.org/conda-forge/linux-64/libgfortran5-9.3.0-hff62375_18.tar.bz2\n",
      "https://conda.anaconda.org/conda-forge/linux-64/libstdcxx-ng-9.3.0-h6de172a_18.tar.bz2\n",
      "https://conda.anaconda.org/conda-forge/linux-64/mysql-common-8.0.23-ha770c72_1.tar.bz2\n",
      "https://conda.anaconda.org/conda-forge/linux-64/pandoc-2.12-h7f98852_0.tar.bz2\n",
      "https://conda.anaconda.org/conda-forge/noarch/fonts-conda-forge-1-0.tar.bz2\n",
      "https://conda.anaconda.org/conda-forge/linux-64/libgfortran-ng-9.3.0-hff62375_18.tar.bz2\n",
      "https://conda.anaconda.org/conda-forge/linux-64/libgomp-9.3.0-h2828fa1_18.tar.bz2\n",
      "https://conda.anaconda.org/conda-forge/linux-64/_openmp_mutex-4.5-1_gnu.tar.bz2\n",
      "https://conda.anaconda.org/conda-forge/noarch/fonts-conda-ecosystem-1-0.tar.bz2\n",
      "https://conda.anaconda.org/conda-forge/linux-64/libgcc-ng-9.3.0-h2828fa1_18.tar.bz2\n",
      "https://conda.anaconda.org/conda-forge/linux-64/bzip2-1.0.8-h7f98852_4.tar.bz2\n",
      "https://conda.anaconda.org/conda-forge/linux-64/c-ares-1.17.1-h7f98852_1.tar.bz2\n",
      "https://conda.anaconda.org/conda-forge/linux-64/expat-2.3.0-h9c3ff4c_0.tar.bz2\n",
      "https://conda.anaconda.org/conda-forge/linux-64/fribidi-1.0.10-h516909a_0.tar.bz2\n",
      "https://conda.anaconda.org/conda-forge/linux-64/giflib-5.2.1-h516909a_2.tar.bz2\n",
      "https://conda.anaconda.org/conda-forge/linux-64/graphite2-1.3.13-he1b5a44_1001.tar.bz2\n",
      "https://conda.anaconda.org/conda-forge/linux-64/icu-68.1-h58526e2_0.tar.bz2\n",
      "https://conda.anaconda.org/conda-forge/linux-64/jpeg-9d-h516909a_0.tar.bz2\n",
      "https://conda.anaconda.org/conda-forge/linux-64/libev-4.33-h516909a_1.tar.bz2\n",
      "https://conda.anaconda.org/conda-forge/linux-64/libffi-3.3-h58526e2_2.tar.bz2\n",
      "https://conda.anaconda.org/conda-forge/linux-64/libiconv-1.16-h516909a_0.tar.bz2\n",
      "https://conda.anaconda.org/conda-forge/linux-64/libopenblas-0.3.12-pthreads_h4812303_1.tar.bz2\n",
      "https://conda.anaconda.org/conda-forge/linux-64/libsodium-1.0.18-h36c2ea0_1.tar.bz2\n",
      "https://conda.anaconda.org/conda-forge/linux-64/libtool-2.4.6-h58526e2_1007.tar.bz2\n",
      "https://conda.anaconda.org/conda-forge/linux-64/libuuid-2.32.1-h14c3975_1000.tar.bz2\n",
      "https://conda.anaconda.org/conda-forge/linux-64/libuv-1.41.0-h7f98852_0.tar.bz2\n",
      "https://conda.anaconda.org/conda-forge/linux-64/libwebp-base-1.2.0-h7f98852_2.tar.bz2\n",
      "https://conda.anaconda.org/conda-forge/linux-64/lz4-c-1.9.3-h9c3ff4c_0.tar.bz2\n",
      "https://conda.anaconda.org/conda-forge/linux-64/lzo-2.10-h516909a_1000.tar.bz2\n",
      "https://conda.anaconda.org/conda-forge/linux-64/ncurses-6.2-h58526e2_4.tar.bz2\n",
      "https://conda.anaconda.org/conda-forge/linux-64/nspr-4.30-h9c3ff4c_0.tar.bz2\n",
      "https://conda.anaconda.org/conda-forge/linux-64/openssl-1.1.1k-h7f98852_0.tar.bz2\n",
      "https://conda.anaconda.org/conda-forge/linux-64/pcre-8.44-he1b5a44_0.tar.bz2\n",
      "https://conda.anaconda.org/conda-forge/linux-64/perl-5.32.0-h36c2ea0_0.tar.bz2\n",
      "https://conda.anaconda.org/conda-forge/linux-64/pixman-0.40.0-h36c2ea0_0.tar.bz2\n",
      "https://conda.anaconda.org/conda-forge/linux-64/pthread-stubs-0.4-h36c2ea0_1001.tar.bz2\n",
      "https://conda.anaconda.org/conda-forge/linux-64/reproc-14.2.1-h36c2ea0_0.tar.bz2\n",
      "https://conda.anaconda.org/conda-forge/linux-64/tini-0.18.0-h14c3975_1001.tar.bz2\n",
      "https://conda.anaconda.org/conda-forge/linux-64/xorg-kbproto-1.0.7-h14c3975_1002.tar.bz2\n",
      "https://conda.anaconda.org/conda-forge/linux-64/xorg-libice-1.0.10-h516909a_0.tar.bz2\n",
      "https://conda.anaconda.org/conda-forge/linux-64/xorg-libxau-1.0.9-h14c3975_0.tar.bz2\n",
      "https://conda.anaconda.org/conda-forge/linux-64/xorg-libxdmcp-1.1.3-h516909a_0.tar.bz2\n",
      "https://conda.anaconda.org/conda-forge/linux-64/xorg-renderproto-0.11.1-h14c3975_1002.tar.bz2\n",
      "https://conda.anaconda.org/conda-forge/linux-64/xorg-xextproto-7.3.0-h14c3975_1002.tar.bz2\n",
      "https://conda.anaconda.org/conda-forge/linux-64/xorg-xproto-7.0.31-h14c3975_1007.tar.bz2\n",
      "https://conda.anaconda.org/conda-forge/linux-64/xz-5.2.5-h516909a_1.tar.bz2\n",
      "https://conda.anaconda.org/conda-forge/linux-64/yaml-0.2.5-h516909a_0.tar.bz2\n",
      "https://conda.anaconda.org/conda-forge/linux-64/zlib-1.2.11-h516909a_1010.tar.bz2\n",
      "https://conda.anaconda.org/conda-forge/linux-64/gettext-0.19.8.1-h0b5b191_1005.tar.bz2\n",
      "https://conda.anaconda.org/conda-forge/linux-64/hdf4-4.2.13-h10796ff_1004.tar.bz2\n",
      "https://conda.anaconda.org/conda-forge/linux-64/libblas-3.9.0-8_openblas.tar.bz2\n",
      "https://conda.anaconda.org/conda-forge/linux-64/libedit-3.1.20191231-he28a2e2_2.tar.bz2\n",
      "https://conda.anaconda.org/conda-forge/linux-64/libevent-2.1.10-hcdb4288_3.tar.bz2\n",
      "https://conda.anaconda.org/conda-forge/linux-64/libllvm11-11.1.0-hf817b99_0.tar.bz2\n",
      "https://conda.anaconda.org/conda-forge/linux-64/libnghttp2-1.43.0-h812cca2_0.tar.bz2\n",
      "https://conda.anaconda.org/conda-forge/linux-64/libpng-1.6.37-hed695b0_2.tar.bz2\n",
      "https://conda.anaconda.org/conda-forge/linux-64/libsolv-0.7.18-h780b84a_0.tar.bz2\n",
      "https://conda.anaconda.org/conda-forge/linux-64/libssh2-1.9.0-ha56f1ee_6.tar.bz2\n",
      "https://conda.anaconda.org/conda-forge/linux-64/libxcb-1.13-h7f98852_1003.tar.bz2\n",
      "https://conda.anaconda.org/conda-forge/linux-64/libxml2-2.9.10-h72842e0_3.tar.bz2\n",
      "https://conda.anaconda.org/conda-forge/linux-64/nodejs-15.12.0-h92b4a50_0.tar.bz2\n",
      "https://conda.anaconda.org/conda-forge/linux-64/readline-8.0-he28a2e2_2.tar.bz2\n",
      "https://conda.anaconda.org/conda-forge/linux-64/reproc-cpp-14.2.1-h58526e2_0.tar.bz2\n",
      "https://conda.anaconda.org/conda-forge/linux-64/tk-8.6.10-h21135ba_1.tar.bz2\n",
      "https://conda.anaconda.org/conda-forge/linux-64/xorg-libsm-1.2.3-hd9c2040_1000.tar.bz2\n",
      "https://conda.anaconda.org/conda-forge/linux-64/zeromq-4.3.4-h9c3ff4c_0.tar.bz2\n",
      "https://conda.anaconda.org/conda-forge/linux-64/zstd-1.4.9-ha95c52a_0.tar.bz2\n",
      "https://conda.anaconda.org/conda-forge/linux-64/configurable-http-proxy-4.3.1-node15_he6ea98c_0.tar.bz2\n",
      "https://conda.anaconda.org/conda-forge/linux-64/freetype-2.10.4-h0708190_1.tar.bz2\n",
      "https://conda.anaconda.org/conda-forge/linux-64/krb5-1.17.2-h926e7f8_0.tar.bz2\n",
      "https://conda.anaconda.org/conda-forge/linux-64/libarchive-3.5.1-h3f442fb_1.tar.bz2\n",
      "https://conda.anaconda.org/conda-forge/linux-64/libcblas-3.9.0-8_openblas.tar.bz2\n",
      "https://conda.anaconda.org/conda-forge/linux-64/libclang-11.1.0-default_ha53f305_0.tar.bz2\n",
      "https://conda.anaconda.org/conda-forge/linux-64/libglib-2.68.0-h3e27bee_2.tar.bz2\n",
      "https://conda.anaconda.org/conda-forge/linux-64/liblapack-3.9.0-8_openblas.tar.bz2\n",
      "https://conda.anaconda.org/conda-forge/linux-64/libtiff-4.2.0-hdc55705_0.tar.bz2\n",
      "https://conda.anaconda.org/conda-forge/linux-64/libxkbcommon-1.0.3-he3ba5ed_0.tar.bz2\n",
      "https://conda.anaconda.org/conda-forge/linux-64/mysql-libs-8.0.23-h935591d_1.tar.bz2\n",
      "https://conda.anaconda.org/conda-forge/linux-64/sqlite-3.35.3-h74cdb3f_0.tar.bz2\n",
      "https://conda.anaconda.org/conda-forge/linux-64/xorg-libx11-1.7.0-h36c2ea0_0.tar.bz2\n",
      "https://conda.anaconda.org/conda-forge/linux-64/atk-1.0-2.36.0-h3371d22_4.tar.bz2\n",
      "https://conda.anaconda.org/conda-forge/linux-64/fontconfig-2.13.1-hba837de_1004.tar.bz2\n",
      "https://conda.anaconda.org/conda-forge/linux-64/gdk-pixbuf-2.42.4-h04a7f16_2.tar.bz2\n",
      "https://conda.anaconda.org/conda-forge/linux-64/glib-tools-2.68.0-h9c3ff4c_2.tar.bz2\n",
      "https://conda.anaconda.org/conda-forge/linux-64/gstreamer-1.18.4-h76c114f_0.tar.bz2\n",
      "https://conda.anaconda.org/conda-forge/linux-64/gts-0.7.6-h64030ff_2.tar.bz2\n",
      "https://conda.anaconda.org/conda-forge/linux-64/lcms2-2.12-hddcbb42_0.tar.bz2\n",
      "https://conda.anaconda.org/conda-forge/linux-64/libcurl-7.75.0-hc4aaa36_0.tar.bz2\n",
      "https://conda.anaconda.org/conda-forge/linux-64/libpq-13.1-hfd2b0eb_2.tar.bz2\n",
      "https://conda.anaconda.org/conda-forge/linux-64/libwebp-1.2.0-h3452ae3_0.tar.bz2\n",
      "https://conda.anaconda.org/conda-forge/linux-64/nss-3.63-hb5efdd6_0.tar.bz2\n",
      "https://conda.anaconda.org/conda-forge/linux-64/python-3.8.8-hffdb5ce_0_cpython.tar.bz2\n",
      "https://conda.anaconda.org/conda-forge/linux-64/xorg-libxext-1.3.4-h7f98852_1.tar.bz2\n",
      "https://conda.anaconda.org/conda-forge/linux-64/xorg-libxrender-0.9.10-h7f98852_1003.tar.bz2\n",
      "https://conda.anaconda.org/conda-forge/noarch/asciitree-0.3.3-py_2.tar.bz2\n",
      "https://conda.anaconda.org/conda-forge/noarch/async_generator-1.10-py_0.tar.bz2\n",
      "https://conda.anaconda.org/conda-forge/noarch/attrs-20.3.0-pyhd3deb0d_0.tar.bz2\n",
      "https://conda.anaconda.org/conda-forge/noarch/backcall-0.2.0-pyh9f0ad1d_0.tar.bz2\n",
      "https://conda.anaconda.org/conda-forge/noarch/backports-1.0-py_2.tar.bz2\n",
      "https://conda.anaconda.org/conda-forge/noarch/blinker-1.4-py_1.tar.bz2\n",
      "https://conda.anaconda.org/conda-forge/linux-64/cairo-1.16.0-h6cf1ce9_1008.tar.bz2\n",
      "https://conda.anaconda.org/conda-forge/noarch/click-7.1.2-pyh9f0ad1d_0.tar.bz2\n",
      "https://conda.anaconda.org/conda-forge/noarch/cloudpickle-1.6.0-py_0.tar.bz2\n",
      "https://conda.anaconda.org/conda-forge/linux-64/curl-7.75.0-h979ede3_0.tar.bz2\n",
      "https://conda.anaconda.org/conda-forge/noarch/decorator-4.4.2-py_0.tar.bz2\n",
      "https://conda.anaconda.org/conda-forge/noarch/defusedxml-0.7.1-pyhd8ed1ab_0.tar.bz2\n",
      "https://conda.anaconda.org/conda-forge/noarch/entrypoints-0.3-pyhd8ed1ab_1003.tar.bz2\n",
      "https://conda.anaconda.org/conda-forge/noarch/fsspec-0.8.7-pyhd8ed1ab_0.tar.bz2\n",
      "https://conda.anaconda.org/conda-forge/linux-64/glib-2.68.0-h9c3ff4c_2.tar.bz2\n",
      "https://conda.anaconda.org/conda-forge/linux-64/gst-plugins-base-1.18.4-h29181c9_0.tar.bz2\n",
      "https://conda.anaconda.org/conda-forge/linux-64/hdf5-1.10.6-nompi_h6a2412b_1114.tar.bz2\n",
      "https://conda.anaconda.org/conda-forge/noarch/heapdict-1.0.1-py_0.tar.bz2\n",
      "https://conda.anaconda.org/conda-forge/noarch/idna-2.10-pyh9f0ad1d_0.tar.bz2\n",
      "https://conda.anaconda.org/conda-forge/noarch/ipython_genutils-0.2.0-py_1.tar.bz2\n",
      "https://conda.anaconda.org/conda-forge/noarch/json5-0.9.5-pyh9f0ad1d_0.tar.bz2\n",
      "https://conda.anaconda.org/conda-forge/linux-64/libgd-2.3.2-h78a0170_0.tar.bz2\n",
      "https://conda.anaconda.org/conda-forge/noarch/locket-0.2.0-py_2.tar.bz2\n",
      "https://conda.anaconda.org/conda-forge/noarch/monotonic-1.5-py_0.tar.bz2\n",
      "https://conda.anaconda.org/conda-forge/noarch/nest-asyncio-1.4.3-pyhd8ed1ab_0.tar.bz2\n",
      "https://conda.anaconda.org/conda-forge/noarch/olefile-0.46-pyh9f0ad1d_1.tar.bz2\n",
      "https://conda.anaconda.org/conda-forge/noarch/pamela-1.0.0-py_0.tar.bz2\n",
      "https://conda.anaconda.org/conda-forge/noarch/pandocfilters-1.4.2-py_1.tar.bz2\n",
      "https://conda.anaconda.org/conda-forge/noarch/parso-0.8.1-pyhd8ed1ab_0.tar.bz2\n",
      "https://conda.anaconda.org/conda-forge/noarch/pickleshare-0.7.5-py_1003.tar.bz2\n",
      "https://conda.anaconda.org/conda-forge/noarch/prometheus_client-0.9.0-pyhd3deb0d_0.tar.bz2\n",
      "https://conda.anaconda.org/conda-forge/noarch/ptyprocess-0.7.0-pyhd3deb0d_0.tar.bz2\n",
      "https://conda.anaconda.org/conda-forge/noarch/pycparser-2.20-pyh9f0ad1d_2.tar.bz2\n",
      "https://conda.anaconda.org/conda-forge/noarch/pyjwt-2.0.1-pyhd8ed1ab_0.tar.bz2\n",
      "https://conda.anaconda.org/conda-forge/noarch/pyparsing-2.4.7-pyh9f0ad1d_0.tar.bz2\n",
      "https://conda.anaconda.org/conda-forge/noarch/python-editor-1.0.4-py_0.tar.bz2\n",
      "https://conda.anaconda.org/conda-forge/noarch/python-json-logger-2.0.1-pyh9f0ad1d_0.tar.bz2\n",
      "https://conda.anaconda.org/conda-forge/linux-64/python_abi-3.8-1_cp38.tar.bz2\n",
      "https://conda.anaconda.org/conda-forge/noarch/pytz-2021.1-pyhd8ed1ab_0.tar.bz2\n",
      "https://conda.anaconda.org/conda-forge/noarch/send2trash-1.5.0-py_0.tar.bz2\n",
      "https://conda.anaconda.org/conda-forge/noarch/six-1.15.0-pyh9f0ad1d_0.tar.bz2\n",
      "https://conda.anaconda.org/conda-forge/noarch/sortedcontainers-2.3.0-pyhd8ed1ab_0.tar.bz2\n",
      "https://conda.anaconda.org/conda-forge/noarch/tblib-1.7.0-pyhd8ed1ab_0.tar.bz2\n",
      "https://conda.anaconda.org/conda-forge/noarch/testpath-0.4.4-py_0.tar.bz2\n",
      "https://conda.anaconda.org/conda-forge/noarch/toolz-0.11.1-py_0.tar.bz2\n",
      "https://conda.anaconda.org/conda-forge/noarch/tqdm-4.59.0-pyhd8ed1ab_0.tar.bz2\n",
      "https://conda.anaconda.org/conda-forge/noarch/typing_extensions-3.7.4.3-py_0.tar.bz2\n",
      "https://conda.anaconda.org/conda-forge/noarch/webencodings-0.5.1-py_1.tar.bz2\n",
      "https://conda.anaconda.org/conda-forge/noarch/wheel-0.36.2-pyhd3deb0d_0.tar.bz2\n",
      "https://conda.anaconda.org/conda-forge/noarch/zipp-3.4.1-pyhd8ed1ab_0.tar.bz2\n",
      "https://conda.anaconda.org/conda-forge/noarch/babel-2.9.0-pyhd3deb0d_0.tar.bz2\n",
      "https://conda.anaconda.org/conda-forge/linux-64/certifi-2020.12.5-py38h578d9bd_1.tar.bz2\n",
      "https://conda.anaconda.org/conda-forge/linux-64/cffi-1.14.5-py38ha65f79e_0.tar.bz2\n",
      "https://conda.anaconda.org/conda-forge/linux-64/chardet-4.0.0-py38h578d9bd_1.tar.bz2\n",
      "https://conda.anaconda.org/conda-forge/linux-64/conda-package-handling-1.7.2-py38h8df0ef7_0.tar.bz2\n",
      "https://conda.anaconda.org/conda-forge/noarch/cycler-0.10.0-py_2.tar.bz2\n",
      "https://conda.anaconda.org/conda-forge/linux-64/cytoolz-0.11.0-py38h497a2fe_3.tar.bz2\n",
      "https://conda.anaconda.org/conda-forge/linux-64/dbus-1.13.6-h48d8840_2.tar.bz2\n",
      "https://conda.anaconda.org/conda-forge/noarch/docrep-0.2.7-py_0.tar.bz2\n",
      "https://conda.anaconda.org/conda-forge/noarch/fasteners-0.14.1-py_3.tar.bz2\n",
      "https://conda.anaconda.org/conda-forge/linux-64/future-0.18.2-py38h578d9bd_3.tar.bz2\n",
      "https://conda.anaconda.org/conda-forge/linux-64/git-2.30.2-pl5320h24fefe6_1.tar.bz2\n",
      "https://conda.anaconda.org/conda-forge/linux-64/greenlet-1.0.0-py38h709712a_0.tar.bz2\n",
      "https://conda.anaconda.org/conda-forge/linux-64/harfbuzz-2.8.0-h83ec7ef_1.tar.bz2\n",
      "https://conda.anaconda.org/conda-forge/linux-64/importlib-metadata-3.7.3-py38h578d9bd_0.tar.bz2\n",
      "https://conda.anaconda.org/conda-forge/linux-64/jedi-0.18.0-py38h578d9bd_2.tar.bz2\n",
      "https://conda.anaconda.org/conda-forge/linux-64/kiwisolver-1.3.1-py38h1fd1430_1.tar.bz2\n",
      "https://conda.anaconda.org/conda-forge/linux-64/libnetcdf-4.7.4-nompi_h56d31a8_107.tar.bz2\n",
      "https://conda.anaconda.org/conda-forge/linux-64/markupsafe-1.1.1-py38h497a2fe_3.tar.bz2\n",
      "https://conda.anaconda.org/conda-forge/linux-64/mistune-0.8.4-py38h497a2fe_1003.tar.bz2\n",
      "https://conda.anaconda.org/conda-forge/linux-64/msgpack-python-1.0.2-py38h1fd1430_1.tar.bz2\n",
      "https://conda.anaconda.org/conda-forge/linux-64/numpy-1.20.2-py38h9894fe3_0.tar.bz2\n",
      "https://conda.anaconda.org/conda-forge/noarch/packaging-20.9-pyh44b312d_0.tar.bz2\n",
      "https://conda.anaconda.org/conda-forge/noarch/partd-1.1.0-py_0.tar.bz2\n",
      "https://conda.anaconda.org/conda-forge/noarch/pexpect-4.8.0-pyh9f0ad1d_2.tar.bz2\n",
      "https://conda.anaconda.org/conda-forge/linux-64/pillow-8.1.2-py38ha0e1e83_0.tar.bz2\n",
      "https://conda.anaconda.org/conda-forge/linux-64/psutil-5.8.0-py38h497a2fe_1.tar.bz2\n",
      "https://conda.anaconda.org/conda-forge/linux-64/pycosat-0.6.3-py38h497a2fe_1006.tar.bz2\n",
      "https://conda.anaconda.org/conda-forge/linux-64/pycurl-7.43.0.6-py38h996a351_1.tar.bz2\n",
      "https://conda.anaconda.org/conda-forge/linux-64/pyqt5-sip-4.19.18-py38h709712a_7.tar.bz2\n",
      "https://conda.anaconda.org/conda-forge/linux-64/pyrsistent-0.17.3-py38h497a2fe_2.tar.bz2\n",
      "https://conda.anaconda.org/conda-forge/linux-64/pysocks-1.7.1-py38h578d9bd_3.tar.bz2\n",
      "https://conda.anaconda.org/conda-forge/noarch/python-dateutil-2.8.1-py_0.tar.bz2\n",
      "https://conda.anaconda.org/conda-forge/linux-64/pyyaml-5.4.1-py38h497a2fe_0.tar.bz2\n",
      "https://conda.anaconda.org/conda-forge/linux-64/pyzmq-22.0.3-py38h2035c66_1.tar.bz2\n",
      "https://conda.anaconda.org/conda-forge/linux-64/ruamel.yaml.clib-0.2.2-py38h497a2fe_2.tar.bz2\n",
      "https://conda.anaconda.org/conda-forge/linux-64/ruamel_yaml-0.15.80-py38h497a2fe_1004.tar.bz2\n",
      "https://conda.anaconda.org/conda-forge/linux-64/sniffio-1.2.0-py38h578d9bd_1.tar.bz2\n",
      "https://conda.anaconda.org/conda-forge/linux-64/tornado-6.1-py38h497a2fe_1.tar.bz2\n",
      "https://conda.anaconda.org/conda-forge/noarch/traitlets-5.0.5-py_0.tar.bz2\n",
      "https://conda.anaconda.org/conda-forge/noarch/zict-2.0.0-py_0.tar.bz2\n",
      "https://conda.anaconda.org/conda-forge/linux-64/anyio-2.2.0-py38h578d9bd_0.tar.bz2\n",
      "https://conda.anaconda.org/conda-forge/linux-64/argon2-cffi-20.1.0-py38h497a2fe_2.tar.bz2\n",
      "https://conda.anaconda.org/conda-forge/linux-64/brotlipy-0.7.0-py38h497a2fe_1001.tar.bz2\n",
      "https://conda.anaconda.org/conda-forge/linux-64/cftime-1.4.1-py38h5c078b8_0.tar.bz2\n",
      "https://conda.anaconda.org/conda-forge/linux-64/cryptography-3.4.6-py38ha5dfef3_0.tar.bz2\n",
      "https://conda.anaconda.org/conda-forge/noarch/dask-core-2021.3.1-pyhd8ed1ab_0.tar.bz2\n",
      "https://conda.anaconda.org/conda-forge/linux-64/jupyter_core-4.7.1-py38h578d9bd_0.tar.bz2\n",
      "https://conda.anaconda.org/conda-forge/noarch/mako-1.1.4-pyh44b312d_0.tar.bz2\n",
      "https://conda.anaconda.org/conda-forge/linux-64/numcodecs-0.7.3-py38h709712a_0.tar.bz2\n",
      "https://conda.anaconda.org/conda-forge/linux-64/pandas-1.2.3-py38h51da96c_0.tar.bz2\n",
      "https://conda.anaconda.org/conda-forge/linux-64/pango-1.42.4-h80147aa_5.tar.bz2\n",
      "https://conda.anaconda.org/conda-forge/linux-64/qt-5.12.9-hda022c4_4.tar.bz2\n",
      "https://conda.anaconda.org/conda-forge/linux-64/setuptools-49.6.0-py38h578d9bd_3.tar.bz2\n",
      "https://conda.anaconda.org/conda-forge/linux-64/sqlalchemy-1.4.3-py38h497a2fe_0.tar.bz2\n",
      "https://conda.anaconda.org/conda-forge/linux-64/terminado-0.9.3-py38h578d9bd_0.tar.bz2\n",
      "https://conda.anaconda.org/conda-forge/noarch/alembic-1.5.8-pyhd8ed1ab_0.tar.bz2\n",
      "https://conda.anaconda.org/conda-forge/noarch/backports.functools_lru_cache-1.6.1-py_0.tar.bz2\n",
      "https://conda.anaconda.org/conda-forge/noarch/bleach-3.3.0-pyh44b312d_0.tar.bz2\n",
      "https://conda.anaconda.org/conda-forge/linux-64/distributed-2021.3.1-py38h578d9bd_0.tar.bz2\n",
      "https://conda.anaconda.org/conda-forge/linux-64/gtk2-2.24.33-hab0c2f8_0.tar.bz2\n",
      "https://conda.anaconda.org/conda-forge/noarch/jinja2-2.11.3-pyh44b312d_0.tar.bz2\n",
      "https://conda.anaconda.org/conda-forge/noarch/jsonschema-3.2.0-pyhd8ed1ab_3.tar.bz2\n",
      "https://conda.anaconda.org/conda-forge/noarch/jupyter-packaging-0.7.12-pyhd8ed1ab_0.tar.bz2\n",
      "https://conda.anaconda.org/conda-forge/noarch/jupyter_client-6.1.12-pyhd8ed1ab_0.tar.bz2\n",
      "https://conda.anaconda.org/conda-forge/linux-64/librsvg-2.50.3-hfa39831_1.tar.bz2\n",
      "https://conda.anaconda.org/conda-forge/linux-64/matplotlib-base-3.4.1-py38hcc49a3a_0.tar.bz2\n",
      "https://conda.anaconda.org/conda-forge/linux-64/netcdf4-1.5.6-nompi_py38h1cdf482_100.tar.bz2\n",
      "https://conda.anaconda.org/conda-forge/noarch/oauthlib-3.0.1-py_0.tar.bz2\n",
      "https://conda.anaconda.org/conda-forge/noarch/pip-21.0.1-pyhd8ed1ab_0.tar.bz2\n",
      "https://conda.anaconda.org/conda-forge/noarch/pygments-2.8.1-pyhd8ed1ab_0.tar.bz2\n",
      "https://conda.anaconda.org/conda-forge/noarch/pyopenssl-20.0.1-pyhd8ed1ab_0.tar.bz2\n",
      "https://conda.anaconda.org/conda-forge/linux-64/pyqt-impl-5.12.3-py38h7400c14_7.tar.bz2\n",
      "https://conda.anaconda.org/conda-forge/linux-64/ruamel.yaml-0.16.12-py38h497a2fe_2.tar.bz2\n",
      "https://conda.anaconda.org/conda-forge/noarch/xarray-0.17.0-pyhd8ed1ab_0.tar.bz2\n",
      "https://conda.anaconda.org/conda-forge/noarch/zarr-2.7.0-pyhd8ed1ab_0.tar.bz2\n",
      "https://conda.anaconda.org/conda-forge/linux-64/bokeh-2.3.0-py38h578d9bd_0.tar.bz2\n",
      "https://conda.anaconda.org/conda-forge/noarch/certipy-0.1.3-py_0.tar.bz2\n",
      "https://conda.anaconda.org/conda-forge/noarch/dask-jobqueue-0.7.2-pyhd8ed1ab_1.tar.bz2\n",
      "https://conda.anaconda.org/conda-forge/linux-64/graphviz-2.47.0-he056042_1.tar.bz2\n",
      "https://conda.anaconda.org/conda-forge/noarch/jupyter_telemetry-0.1.0-pyhd8ed1ab_1.tar.bz2\n",
      "https://conda.anaconda.org/conda-forge/noarch/jupyterlab_pygments-0.1.2-pyh9f0ad1d_0.tar.bz2\n",
      "https://conda.anaconda.org/conda-forge/noarch/nbformat-5.1.2-pyhd8ed1ab_1.tar.bz2\n",
      "https://conda.anaconda.org/conda-forge/linux-64/pyqtchart-5.12-py38h7400c14_7.tar.bz2\n",
      "https://conda.anaconda.org/conda-forge/linux-64/pyqtwebengine-5.12.1-py38h7400c14_7.tar.bz2\n",
      "https://conda.anaconda.org/conda-forge/noarch/urllib3-1.26.4-pyhd8ed1ab_0.tar.bz2\n",
      "https://conda.anaconda.org/conda-forge/noarch/wcwidth-0.2.5-pyh9f0ad1d_2.tar.bz2\n",
      "https://conda.anaconda.org/conda-forge/noarch/dask-2021.3.1-pyhd8ed1ab_0.tar.bz2\n",
      "https://conda.anaconda.org/conda-forge/noarch/nbclient-0.5.3-pyhd8ed1ab_0.tar.bz2\n",
      "https://conda.anaconda.org/conda-forge/noarch/prompt-toolkit-3.0.18-pyha770c72_0.tar.bz2\n",
      "https://conda.anaconda.org/conda-forge/linux-64/pyqt-5.12.3-py38h578d9bd_7.tar.bz2\n",
      "https://conda.anaconda.org/conda-forge/noarch/python-graphviz-0.16-pyh243d235_2.tar.bz2\n",
      "https://conda.anaconda.org/conda-forge/noarch/requests-2.25.1-pyhd3deb0d_0.tar.bz2\n",
      "https://conda.anaconda.org/conda-forge/linux-64/conda-4.9.2-py38h578d9bd_0.tar.bz2\n",
      "https://conda.anaconda.org/conda-forge/linux-64/ipython-7.21.0-py38h81c977d_0.tar.bz2\n",
      "https://conda.anaconda.org/conda-forge/linux-64/jupyterhub-base-1.3.0-py38h578d9bd_1.tar.bz2\n",
      "https://conda.anaconda.org/conda-forge/linux-64/matplotlib-3.4.1-py38h578d9bd_0.tar.bz2\n",
      "https://conda.anaconda.org/conda-forge/linux-64/nbconvert-6.0.7-py38h578d9bd_3.tar.bz2\n",
      "https://conda.anaconda.org/conda-forge/noarch/xgcm-0.5.1-py_0.tar.bz2\n",
      "https://conda.anaconda.org/conda-forge/linux-64/ipykernel-5.5.0-py38h81c977d_1.tar.bz2\n",
      "https://conda.anaconda.org/conda-forge/linux-64/jupyter_server-1.5.1-py38h578d9bd_0.tar.bz2\n",
      "https://conda.anaconda.org/conda-forge/linux-64/jupyterhub-1.3.0-py38h578d9bd_1.tar.bz2\n",
      "https://conda.anaconda.org/conda-forge/linux-64/mamba-0.9.1-py38h2aa5da1_0.tar.bz2\n",
      "https://conda.anaconda.org/conda-forge/noarch/jupyterlab_server-2.3.0-pyhd8ed1ab_0.tar.bz2\n",
      "https://conda.anaconda.org/conda-forge/linux-64/notebook-6.2.0-py38h578d9bd_0.tar.bz2\n",
      "https://conda.anaconda.org/conda-forge/noarch/nbclassic-0.2.6-pyhd8ed1ab_0.tar.bz2\n",
      "https://conda.anaconda.org/conda-forge/noarch/jupyterlab-3.0.12-pyhd8ed1ab_0.tar.bz2\n"
     ]
    }
   ],
   "source": [
    "!mamba list --explicit"
   ]
  }
 ],
 "metadata": {
  "kernelspec": {
   "display_name": "Python 3",
   "language": "python",
   "name": "python3"
  },
  "language_info": {
   "codemirror_mode": {
    "name": "ipython",
    "version": 3
   },
   "file_extension": ".py",
   "mimetype": "text/x-python",
   "name": "python",
   "nbconvert_exporter": "python",
   "pygments_lexer": "ipython3",
   "version": "3.8.8"
  }
 },
 "nbformat": 4,
 "nbformat_minor": 5
}
