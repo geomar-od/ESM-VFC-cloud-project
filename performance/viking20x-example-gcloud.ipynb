{
 "cells": [
  {
   "cell_type": "markdown",
   "id": "888168ca-806d-44f8-9743-5085b4104cda",
   "metadata": {},
   "source": [
    "# Benchmarking: VIKING20X workload"
   ]
  },
  {
   "cell_type": "code",
   "execution_count": null,
   "id": "fe7b2c95-0947-4768-9388-cfd7372f0fc5",
   "metadata": {},
   "outputs": [],
   "source": [
    "import xarray\n",
    "import dask.distributed\n",
    "import dask_gateway"
   ]
  },
  {
   "cell_type": "markdown",
   "id": "529d4873-a95c-4c8c-abf2-82489d603c8e",
   "metadata": {},
   "source": [
    "## Open Dask cluster"
   ]
  },
  {
   "cell_type": "code",
   "execution_count": null,
   "id": "18b04e32-d6fc-4f09-ba24-fd4ae81497f5",
   "metadata": {},
   "outputs": [],
   "source": [
    "gateway = dask_gateway.Gateway(\n",
    "    address='http://traefik-daskgateway2-dask-gateway:80/services/dask-gateway',\n",
    "    public_address='/services/dask-gateway/', # dashboard!\n",
    "    auth='jupyterhub',\n",
    ")"
   ]
  },
  {
   "cell_type": "code",
   "execution_count": null,
   "id": "7f2c4aa9-362c-4329-8eca-d5feb839c73a",
   "metadata": {},
   "outputs": [],
   "source": [
    "gateway.cluster_options()"
   ]
  },
  {
   "cell_type": "code",
   "execution_count": null,
   "id": "822d182f-f8ea-41c2-a6b9-0402beb3ff74",
   "metadata": {},
   "outputs": [],
   "source": [
    "%%time\n",
    "# Note, this spawns the Dask scheduler and might take up to a few minutes, because of pod/node/image provisioning.\n",
    "# dask-worker-pool: cpu/memory allocatable: 7.91 CPU and 29.79 GB / 27.744099 gib\n",
    "cluster = gateway.new_cluster(worker_cores=7, worker_memory=27) "
   ]
  },
  {
   "cell_type": "code",
   "execution_count": null,
   "id": "d7933413-9c22-4875-b393-01d4f6e860a8",
   "metadata": {},
   "outputs": [],
   "source": [
    "client = dask.distributed.Client(cluster); client"
   ]
  },
  {
   "cell_type": "markdown",
   "id": "29022e2d-efc2-49f3-be53-8158b7112ea5",
   "metadata": {},
   "source": [
    "## Specify VIKING20X dataset"
   ]
  },
  {
   "cell_type": "code",
   "execution_count": null,
   "id": "8eef7693-83c6-45de-8c17-f457c37b0211",
   "metadata": {},
   "outputs": [],
   "source": [
    "gcloud_bucket = 'gs://...'"
   ]
  },
  {
   "cell_type": "code",
   "execution_count": null,
   "id": "c943a62b-7fe5-44d3-b86c-e5f11b41303d",
   "metadata": {},
   "outputs": [],
   "source": [
    "ds_tgrid = xarray.open_zarr(gcloud_bucket+'/VIKING20X.L46-KFS003_1m_grid_T.zarr')"
   ]
  },
  {
   "cell_type": "code",
   "execution_count": null,
   "id": "b0964784-1298-4e70-8e8d-0514daa8a4d4",
   "metadata": {},
   "outputs": [],
   "source": [
    "ds_ugrid = xarray.open_zarr(gcloud_bucket+'/VIKING20X.L46-KFS003_1m_grid_U.zarr')"
   ]
  },
  {
   "cell_type": "code",
   "execution_count": null,
   "id": "2d00bf43-1f6a-4047-8ea7-5c07bd452c12",
   "metadata": {},
   "outputs": [],
   "source": [
    "ds_vgrid = xarray.open_zarr(gcloud_bucket+'/VIKING20X.L46-KFS003_1m_grid_V.zarr')"
   ]
  },
  {
   "cell_type": "markdown",
   "id": "fe82fb6d-c81d-4136-88d3-a96ad2cb63d2",
   "metadata": {},
   "source": [
    "Uncompressed size,"
   ]
  },
  {
   "cell_type": "code",
   "execution_count": null,
   "id": "1d173792-eeb0-46cf-898d-08cd45e34d1d",
   "metadata": {},
   "outputs": [],
   "source": [
    "print(ds_tgrid.nbytes/1e9, 'in GB')\n",
    "print(ds_ugrid.nbytes/1e9, 'in GB')\n",
    "print(ds_vgrid.nbytes/1e9, 'in GB')"
   ]
  },
  {
   "cell_type": "markdown",
   "id": "e1f04196-12a5-4393-8240-327040d5ce5d",
   "metadata": {},
   "source": [
    "## Run performance experiment"
   ]
  },
  {
   "cell_type": "code",
   "execution_count": null,
   "id": "89990566-314c-48b1-95d5-9358ef8b70e5",
   "metadata": {},
   "outputs": [],
   "source": [
    "client"
   ]
  },
  {
   "cell_type": "code",
   "execution_count": null,
   "id": "5e0766f2-8df9-49d8-b465-41bec3a110f4",
   "metadata": {},
   "outputs": [],
   "source": [
    "import time, datetime, tqdm\n",
    "\n",
    "exp_name='gcloud'\n",
    "no_of_realizations = 25\n",
    "target_worker_number = [20,40,60]\n",
    "\n",
    "# Note, Kubernetes cluster nodes had to be repaired for this experiment...\n",
    "# Upscaling has worked, and resources seem to have survived?\n",
    "# Had to manually restart the notebook cell, though. Hence, the uncommenting below.\n",
    "target_worker_number = [60]\n",
    "\n",
    "#now = datetime.datetime.now().strftime(\"%Y%m%d%H%M%S\")\n",
    "#walltime = ['machine,workers,walltime']\n",
    "\n",
    "# Measuring.\n",
    "\n",
    "for no_of_workers in target_worker_number:\n",
    "    \n",
    "    # Scale workers.\n",
    "\n",
    "    #cluster.scale(no_of_workers)\n",
    "        \n",
    "    # Wait for workers to be available.\n",
    "    \n",
    "    while len(cluster.scheduler_info.get('workers').keys()) < no_of_workers:\n",
    "        time.sleep(5)\n",
    "    \n",
    "    # Warming up.\n",
    "    \n",
    "    for _ in range(3):\n",
    "        ds_tgrid['votemper'].mean(['deptht', 'time_counter', 'x', 'y']).compute()\n",
    "        ds_tgrid['vosaline'].mean(['deptht', 'time_counter', 'x', 'y']).compute()\n",
    "        ds_ugrid['vozocrtx'].mean(['depthu', 'time_counter', 'x', 'y']).compute()\n",
    "        ds_vgrid['vomecrty'].mean(['depthv', 'time_counter', 'x', 'y']).compute()\n",
    "\n",
    "    # Do the calculation.\n",
    "\n",
    "    for _ in tqdm.tqdm(range(no_of_realizations)):\n",
    "        \n",
    "        workers=len(cluster.scheduler_info.get('workers').keys())\n",
    "\n",
    "        start_time_in_sec = time.time() # time in seconds\n",
    "\n",
    "        ds_tgrid['votemper'].mean(['deptht', 'time_counter', 'x', 'y']).compute()\n",
    "        ds_tgrid['vosaline'].mean(['deptht', 'time_counter', 'x', 'y']).compute()\n",
    "        ds_ugrid['vozocrtx'].mean(['depthu', 'time_counter', 'x', 'y']).compute()\n",
    "        ds_vgrid['vomecrty'].mean(['depthv', 'time_counter', 'x', 'y']).compute()\n",
    "\n",
    "        end_time_in_sec = time.time() # time in seconds\n",
    "\n",
    "        output_row = \"{},{},{}\".format(exp_name, workers, end_time_in_sec-start_time_in_sec)\n",
    "        walltime.append(output_row)"
   ]
  },
  {
   "cell_type": "markdown",
   "id": "40a14973-869d-4d6e-a806-11c6428cbb72",
   "metadata": {},
   "source": [
    "Node example structure,"
   ]
  },
  {
   "cell_type": "code",
   "execution_count": null,
   "id": "a962b42f-eefb-47ea-91b4-860d66dbabbf",
   "metadata": {},
   "outputs": [],
   "source": [
    "for item in cluster.scheduler_info.get('workers').items():\n",
    "    print(item[1]['host'])"
   ]
  },
  {
   "cell_type": "code",
   "execution_count": null,
   "id": "4dc6e6ef-7edb-42e7-8e97-3b2753e04c89",
   "metadata": {},
   "outputs": [],
   "source": [
    "# $ kubectl get pods --namespace jupyterhub2 -o wide && kubectl get nodes --namespace jupyterhub2 -o wide\n",
    "# NAME                                                    READY   STATUS    RESTARTS   AGE    IP           NODE                                              NOMINATED NODE   READINESS GATES\n",
    "# api-daskgateway2-dask-gateway-589fd758b4-ng7qz          1/1     Running   0          21h    10.28.2.94   gke-jupyterhub2-core-pool-eee381a1-2ghj           <none>           <none>\n",
    "# continuous-image-puller-g8s6k                           1/1     Running   0          136m   10.28.3.2    gke-jupyterhub2-jupyter-user-pool-431878cf-ntpb   <none>           <none>\n",
    "# controller-daskgateway2-dask-gateway-84f7747c9d-d4s6g   1/1     Running   0          21h    10.28.2.95   gke-jupyterhub2-core-pool-eee381a1-2ghj           <none>           <none>\n",
    "# dask-scheduler-be688c00e55b406d993e3ea07346698e         1/1     Running   0          41m    10.28.3.13   gke-jupyterhub2-jupyter-user-pool-431878cf-ntpb   <none>           <none>\n",
    "# dask-worker-be688c00e55b406d993e3ea07346698e-2sjvb      1/1     Running   0          15m    10.28.8.2    gke-jupyterhub2-dask-worker-pool-98e0de38-hllf    <none>           <none>\n",
    "# dask-worker-be688c00e55b406d993e3ea07346698e-46vsp      1/1     Running   0          41m    10.28.1.2    gke-jupyterhub2-dask-worker-pool-98e0de38-rnvw    <none>           <none>\n",
    "# dask-worker-be688c00e55b406d993e3ea07346698e-62k6z      1/1     Running   0          28m    10.28.5.2    gke-jupyterhub2-dask-worker-pool-98e0de38-jgxn    <none>           <none>\n",
    "# dask-worker-be688c00e55b406d993e3ea07346698e-9wqpk      1/1     Running   0          41m    10.28.0.2    gke-jupyterhub2-dask-worker-pool-98e0de38-rmj5    <none>           <none>\n",
    "# dask-worker-be688c00e55b406d993e3ea07346698e-bdzvn      1/1     Running   0          10m    10.28.11.2   gke-jupyterhub2-dask-worker-pool-98e0de38-tvlk    <none>           <none>\n",
    "# dask-worker-be688c00e55b406d993e3ea07346698e-bnd7m      1/1     Running   0          21m    10.28.6.2    gke-jupyterhub2-dask-worker-pool-98e0de38-zgz2    <none>           <none>\n",
    "# dask-worker-be688c00e55b406d993e3ea07346698e-dx8gp      1/1     Running   0          10m    10.28.10.2   gke-jupyterhub2-dask-worker-pool-98e0de38-2nzz    <none>           <none>\n",
    "# dask-worker-be688c00e55b406d993e3ea07346698e-km6l8      1/1     Running   0          15m    10.28.9.2    gke-jupyterhub2-dask-worker-pool-98e0de38-9pcj    <none>           <none>\n",
    "# dask-worker-be688c00e55b406d993e3ea07346698e-q7v2c      1/1     Running   0          28m    10.28.4.2    gke-jupyterhub2-dask-worker-pool-98e0de38-x7mc    <none>           <none>\n",
    "# dask-worker-be688c00e55b406d993e3ea07346698e-q9tvk      1/1     Running   0          21m    10.28.7.2    gke-jupyterhub2-dask-worker-pool-98e0de38-wpzv    <none>           <none>\n",
    "# hub-cbb556995-hd76f                                     1/1     Running   0          21h    10.28.2.97   gke-jupyterhub2-core-pool-eee381a1-2ghj           <none>           <none>\n",
    "# jupyter-khoeflich                                       1/1     Running   0          138m   10.28.3.3    gke-jupyterhub2-jupyter-user-pool-431878cf-ntpb   <none>           <none>\n",
    "# proxy-db9d9bbc4-lkm22                                   1/1     Running   0          87d    10.28.2.4    gke-jupyterhub2-core-pool-eee381a1-2ghj           <none>           <none>\n",
    "# traefik-daskgateway2-dask-gateway-849fdb566d-sdh4w      1/1     Running   0          87d    10.28.2.5    gke-jupyterhub2-core-pool-eee381a1-2ghj           <none>           <none>\n",
    "# NAME                                              STATUS   ROLES    AGE     VERSION             INTERNAL-IP     EXTERNAL-IP      OS-IMAGE                             KERNEL-VERSION   CONTAINER-RUNTIME\n",
    "# gke-jupyterhub2-core-pool-eee381a1-2ghj           Ready    <none>   87d     v1.20.10-gke.1600   10.156.15.227   35.234.114.125   Container-Optimized OS from Google   5.4.120+         containerd://1.4.4\n",
    "# gke-jupyterhub2-dask-worker-pool-98e0de38-2nzz    Ready    <none>   9m15s   v1.20.10-gke.1600   10.156.15.240   34.159.61.210    Container-Optimized OS from Google   5.4.120+         containerd://1.4.4\n",
    "# gke-jupyterhub2-dask-worker-pool-98e0de38-9pcj    Ready    <none>   14m     v1.20.10-gke.1600   10.156.15.239   34.159.32.44     Container-Optimized OS from Google   5.4.120+         containerd://1.4.4\n",
    "# gke-jupyterhub2-dask-worker-pool-98e0de38-hllf    Ready    <none>   14m     v1.20.10-gke.1600   10.156.15.238   34.159.16.170    Container-Optimized OS from Google   5.4.120+         containerd://1.4.4\n",
    "# gke-jupyterhub2-dask-worker-pool-98e0de38-jgxn    Ready    <none>   28m     v1.20.10-gke.1600   10.156.0.23     34.159.202.71    Container-Optimized OS from Google   5.4.120+         containerd://1.4.4\n",
    "# gke-jupyterhub2-dask-worker-pool-98e0de38-rmj5    Ready    <none>   40m     v1.20.10-gke.1600   10.156.0.21     35.198.77.238    Container-Optimized OS from Google   5.4.120+         containerd://1.4.4\n",
    "# gke-jupyterhub2-dask-worker-pool-98e0de38-rnvw    Ready    <none>   40m     v1.20.10-gke.1600   10.156.0.22     34.159.93.15     Container-Optimized OS from Google   5.4.120+         containerd://1.4.4\n",
    "# gke-jupyterhub2-dask-worker-pool-98e0de38-tvlk    Ready    <none>   9m14s   v1.20.10-gke.1600   10.156.15.241   34.159.192.187   Container-Optimized OS from Google   5.4.120+         containerd://1.4.4\n",
    "# gke-jupyterhub2-dask-worker-pool-98e0de38-wpzv    Ready    <none>   20m     v1.20.10-gke.1600   10.156.15.237   34.159.55.51     Container-Optimized OS from Google   5.4.120+         containerd://1.4.4\n",
    "# gke-jupyterhub2-dask-worker-pool-98e0de38-x7mc    Ready    <none>   28m     v1.20.10-gke.1600   10.156.15.235   34.89.208.255    Container-Optimized OS from Google   5.4.120+         containerd://1.4.4\n",
    "# gke-jupyterhub2-dask-worker-pool-98e0de38-zgz2    Ready    <none>   20m     v1.20.10-gke.1600   10.156.15.236   34.159.230.32    Container-Optimized OS from Google   5.4.120+         containerd://1.4.4\n",
    "# gke-jupyterhub2-jupyter-user-pool-431878cf-ntpb   Ready    <none>   137m    v1.20.10-gke.1600   10.156.0.17     34.159.19.48     Container-Optimized OS from Google   5.4.120+         containerd://1.4.4"
   ]
  },
  {
   "cell_type": "code",
   "execution_count": null,
   "id": "d1b1a0c2-a097-4d67-a83b-f510309f1a66",
   "metadata": {},
   "outputs": [],
   "source": [
    "client.close(); cluster.close()"
   ]
  },
  {
   "cell_type": "markdown",
   "id": "8d0e0662-af02-4ce6-83dc-798b7a821cf3",
   "metadata": {},
   "source": [
    "Write results to disk,"
   ]
  },
  {
   "cell_type": "code",
   "execution_count": null,
   "id": "4c67d435-5c98-453b-ae52-11a70bc21c4e",
   "metadata": {},
   "outputs": [],
   "source": [
    "import csv\n",
    "\n",
    "with open('./viking20x_logs/'+now+'_'+exp_name+'.log', 'w') as file:\n",
    "    wr = csv.writer(file, delimiter='\\n')\n",
    "    wr.writerow(walltime)"
   ]
  },
  {
   "cell_type": "markdown",
   "id": "ddab499b-65fb-4ee9-99f7-6f00696de653",
   "metadata": {},
   "source": [
    "## Python environment"
   ]
  },
  {
   "cell_type": "code",
   "execution_count": null,
   "id": "7b1a7c29-b078-4df6-9619-5239d32183f5",
   "metadata": {},
   "outputs": [],
   "source": [
    "pip list"
   ]
  },
  {
   "cell_type": "code",
   "execution_count": null,
   "id": "276fcda2-3055-440b-8ea1-d5e95d6e108d",
   "metadata": {},
   "outputs": [],
   "source": [
    "!conda list --explicit"
   ]
  }
 ],
 "metadata": {
  "kernelspec": {
   "display_name": "Python 3 (ipykernel)",
   "language": "python",
   "name": "python3"
  },
  "language_info": {
   "codemirror_mode": {
    "name": "ipython",
    "version": 3
   },
   "file_extension": ".py",
   "mimetype": "text/x-python",
   "name": "python",
   "nbconvert_exporter": "python",
   "pygments_lexer": "ipython3",
   "version": "3.8.10"
  }
 },
 "nbformat": 4,
 "nbformat_minor": 5
}
