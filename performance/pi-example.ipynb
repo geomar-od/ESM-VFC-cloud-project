{
 "cells": [
  {
   "cell_type": "markdown",
   "id": "3bc413f4-13ce-4474-8de1-f07c21bdaa4f",
   "metadata": {},
   "source": [
    "# Benchmarking: Calculate pi example"
   ]
  },
  {
   "cell_type": "markdown",
   "id": "72ee675b-fecf-49bd-b748-08586b1c9fc2",
   "metadata": {},
   "source": [
    "Specify workload,"
   ]
  },
  {
   "cell_type": "code",
   "execution_count": null,
   "id": "26d7f37f-173f-480f-ba35-cb479a356eb6",
   "metadata": {},
   "outputs": [],
   "source": [
    "from calculate_pi import calculate_pi"
   ]
  },
  {
   "cell_type": "code",
   "execution_count": null,
   "id": "8651accb-8317-43f6-8d23-c2d7ee88822e",
   "metadata": {},
   "outputs": [],
   "source": [
    "workload_size_in_terabytes = 0.01\n",
    "workload_chunk_size_in_megabytes = 20 # ~memory/cpu, i.e. Dask worker specific!"
   ]
  },
  {
   "cell_type": "markdown",
   "id": "a4a39520-3081-48b1-8f0e-6d8a685b6853",
   "metadata": {},
   "source": [
    "Specify experiment,"
   ]
  },
  {
   "cell_type": "code",
   "execution_count": null,
   "id": "b7ff654c-9b1f-44e1-ba2b-c0abe12ffce0",
   "metadata": {},
   "outputs": [],
   "source": [
    "import dask\n",
    "dask.config.set(\n",
    "    {'distributed.dashboard.link': \"/user/{JUPYTERHUB_USER}/proxy/{port}/status\"}\n",
    ");"
   ]
  },
  {
   "cell_type": "code",
   "execution_count": null,
   "id": "1dd3e616-027f-4fc8-ab81-2f8b153226da",
   "metadata": {},
   "outputs": [],
   "source": [
    "expname = 'gcloud'\n",
    "\n",
    "import dask.distributed, os\n",
    "\n",
    "cluster = dask.distributed.LocalCluster(\n",
    "    n_workers=1, threads_per_worker=7,\n",
    "    #memory_limit='80GB',\n",
    "    local_directory=os.getenv('TMPDIR'),\n",
    "    ip='0.0.0.0'\n",
    ")\n",
    "\n",
    "client = dask.distributed.Client(cluster)"
   ]
  },
  {
   "cell_type": "code",
   "execution_count": null,
   "id": "06e06a32-4a47-4e04-b6b7-dc5ebf1bcf21",
   "metadata": {},
   "outputs": [],
   "source": [
    "!lscpu"
   ]
  },
  {
   "cell_type": "markdown",
   "id": "a78d1e53-5815-4fb2-bd8d-fc7bda0a737e",
   "metadata": {},
   "source": [
    "Perform benchmarking calculations,"
   ]
  },
  {
   "cell_type": "code",
   "execution_count": null,
   "id": "f13b61c5-8b41-4e50-8862-7044b1bb0fdb",
   "metadata": {},
   "outputs": [],
   "source": [
    "client"
   ]
  },
  {
   "cell_type": "code",
   "execution_count": null,
   "id": "1a0f26c2-2d11-4600-8981-b665e55ab4b7",
   "metadata": {},
   "outputs": [],
   "source": [
    "import time, datetime\n",
    "\n",
    "no_of_realizations = 25\n",
    "\n",
    "now = datetime.datetime.now().strftime(\"%Y%m%d%H%M%S\")\n",
    "walltime = [expname]\n",
    "\n",
    "# Warming-up.\n",
    "\n",
    "for _ in range(3):\n",
    "\n",
    "    calculate_pi(\n",
    "        size_in_terabytes=workload_size_in_terabytes,\n",
    "        chunk_size_in_megabytes=workload_chunk_size_in_megabytes\n",
    "    ).compute();\n",
    "\n",
    "# Measuring.\n",
    "\n",
    "for _ in range(no_of_realizations):\n",
    "\n",
    "    start_time_in_sec = time.time() # time in seconds\n",
    "\n",
    "    pi = calculate_pi(\n",
    "        size_in_terabytes=workload_size_in_terabytes,\n",
    "        chunk_size_in_megabytes=workload_chunk_size_in_megabytes\n",
    "    ).compute()\n",
    "\n",
    "    end_time_in_sec = time.time() # time in seconds\n",
    "\n",
    "    walltime.append(end_time_in_sec-start_time_in_sec)"
   ]
  },
  {
   "cell_type": "code",
   "execution_count": null,
   "id": "6f52a0dc-a6cc-4cfc-9414-29168bf9c537",
   "metadata": {},
   "outputs": [],
   "source": [
    "client.close(); cluster.close()"
   ]
  },
  {
   "cell_type": "markdown",
   "id": "eed2abfe-6e96-4ced-ac2f-03b8aed4b46c",
   "metadata": {},
   "source": [
    "Write results to disk,"
   ]
  },
  {
   "cell_type": "code",
   "execution_count": null,
   "id": "200aa64b-08fb-4861-a737-65e2545b658e",
   "metadata": {},
   "outputs": [],
   "source": [
    "import csv\n",
    "\n",
    "with open('./pi-example_logs/'+now+'_'+expname+'.log', 'w') as file:\n",
    "    wr = csv.writer(file, delimiter='\\n')\n",
    "    wr.writerow(walltime)"
   ]
  },
  {
   "cell_type": "markdown",
   "id": "2adabbc4-301d-4134-82d9-0fc5b8381f61",
   "metadata": {},
   "source": [
    "Python environment,"
   ]
  },
  {
   "cell_type": "code",
   "execution_count": null,
   "id": "302b3fb0-91cb-4857-a0d9-533bb9bce0a5",
   "metadata": {},
   "outputs": [],
   "source": [
    "pip list"
   ]
  },
  {
   "cell_type": "code",
   "execution_count": null,
   "id": "96a654a6-107a-43d0-bf25-d73cdead38eb",
   "metadata": {},
   "outputs": [],
   "source": [
    "!conda list --explicit"
   ]
  },
  {
   "cell_type": "markdown",
   "id": "446409a3-154a-4a7e-86c3-46802de6b37d",
   "metadata": {},
   "source": [
    "Archive self,\n",
    "https://stackoverflow.com/a/69078637"
   ]
  },
  {
   "cell_type": "code",
   "execution_count": null,
   "id": "eecea207-0d43-4ba2-9338-7354f120f125",
   "metadata": {},
   "outputs": [],
   "source": [
    "import time"
   ]
  },
  {
   "cell_type": "code",
   "execution_count": null,
   "id": "e7e89032-0be0-4df0-88b4-cd394903beb6",
   "metadata": {},
   "outputs": [],
   "source": [
    "print('Will now save myself...')"
   ]
  },
  {
   "cell_type": "code",
   "execution_count": null,
   "id": "f40bb7b3-2f7a-4842-ab2d-3e3d11dd89a6",
   "metadata": {},
   "outputs": [],
   "source": [
    "from IPython.display import display, HTML\n",
    "\n",
    "script = \"\"\"\n",
    "this.nextElementSibling.focus();\n",
    "this.dispatchEvent(new KeyboardEvent('keydown', {key:'s', keyCode: 83, ctrlKey: true}));\n",
    "\"\"\"\n",
    "display(HTML((\n",
    "    '<img src onerror=\"{}\" style=\"display:none\">'\n",
    "    '<input style=\"width:0;height:0;border:0\">'\n",
    ").format(script)))\n",
    "\n",
    "script = \"\"\"\n",
    "this.nextElementSibling.focus();\n",
    "this.dispatchEvent(new KeyboardEvent('keydown', {key:'s', keyCode: 83, metaKey: true}));\n",
    "\"\"\"\n",
    "display(HTML((\n",
    "    '<img src onerror=\"{}\" style=\"display:none\">'\n",
    "    '<input style=\"width:0;height:0;border:0\">'\n",
    ").format(script)))"
   ]
  },
  {
   "cell_type": "code",
   "execution_count": null,
   "id": "5d2793c0-2032-4882-81d7-181ab4ae2aa0",
   "metadata": {},
   "outputs": [],
   "source": [
    "time.sleep(10)"
   ]
  },
  {
   "cell_type": "code",
   "execution_count": null,
   "id": "c3859e97-7b39-4b5e-85d2-e385707aa38f",
   "metadata": {},
   "outputs": [],
   "source": [
    "!cp pi-example.ipynb ./pi-example_logs/{now}_pi-example.ipynb"
   ]
  }
 ],
 "metadata": {
  "kernelspec": {
   "display_name": "Python 3 (ipykernel)",
   "language": "python",
   "name": "python3"
  },
  "language_info": {
   "codemirror_mode": {
    "name": "ipython",
    "version": 3
   },
   "file_extension": ".py",
   "mimetype": "text/x-python",
   "name": "python",
   "nbconvert_exporter": "python",
   "pygments_lexer": "ipython3",
   "version": "3.8.10"
  }
 },
 "nbformat": 4,
 "nbformat_minor": 5
}
