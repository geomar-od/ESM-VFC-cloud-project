{
 "cells": [
  {
   "cell_type": "markdown",
   "id": "888168ca-806d-44f8-9743-5085b4104cda",
   "metadata": {},
   "source": [
    "# Benchmarking: VIKING20X workload"
   ]
  },
  {
   "cell_type": "code",
   "execution_count": null,
   "id": "fe7b2c95-0947-4768-9388-cfd7372f0fc5",
   "metadata": {},
   "outputs": [],
   "source": [
    "import xarray\n",
    "import dask.distributed"
   ]
  },
  {
   "cell_type": "code",
   "execution_count": null,
   "id": "327cbf0b-8f57-451e-a021-ba6b1887855b",
   "metadata": {},
   "outputs": [],
   "source": [
    "import subprocess"
   ]
  },
  {
   "cell_type": "markdown",
   "id": "357d3ed7-edea-486e-a487-321da28c152c",
   "metadata": {},
   "source": [
    "## Preparations\n",
    "We need a local SSH key pair for SSH-based worker spawning to work properly."
   ]
  },
  {
   "cell_type": "code",
   "execution_count": null,
   "id": "1fe021c2-fa79-4923-a0c3-8400c6737caf",
   "metadata": {},
   "outputs": [],
   "source": [
    "!ssh-keygen -b 4096 -t rsa -f id_rsa_esmvfc -C esmvfc -P ''"
   ]
  },
  {
   "cell_type": "code",
   "execution_count": null,
   "id": "9bfcc123-9f0f-44fe-ad87-ab6f2482b39a",
   "metadata": {},
   "outputs": [],
   "source": [
    "!ls id_rsa* -la"
   ]
  },
  {
   "cell_type": "code",
   "execution_count": null,
   "id": "a1786106-0297-4e23-9bf7-0582cab3e305",
   "metadata": {},
   "outputs": [],
   "source": [
    "!cp ${HOME}/.ssh/authorized_keys ${HOME}/.ssh/authorized_keys_$(date '+%s')"
   ]
  },
  {
   "cell_type": "code",
   "execution_count": null,
   "id": "d0f0e93b-3e54-4ce4-a725-1d61cb763dd2",
   "metadata": {},
   "outputs": [],
   "source": [
    "!cat id_rsa_esmvfc.pub >> ${HOME}/.ssh/authorized_keys"
   ]
  },
  {
   "cell_type": "markdown",
   "id": "529d4873-a95c-4c8c-abf2-82489d603c8e",
   "metadata": {},
   "source": [
    "## Open Dask cluster"
   ]
  },
  {
   "cell_type": "code",
   "execution_count": null,
   "id": "2731b13f-cc97-4cc0-ac80-304d3ec352cb",
   "metadata": {},
   "outputs": [],
   "source": [
    "# This instantiates a Dask scheduler without Dask workers, which will be spawned manually.\n",
    "cluster = dask.distributed.LocalCluster(\n",
    "    n_workers=0, ip='0.0.0.0'\n",
    ")"
   ]
  },
  {
   "cell_type": "code",
   "execution_count": null,
   "id": "d7933413-9c22-4875-b393-01d4f6e860a8",
   "metadata": {},
   "outputs": [],
   "source": [
    "client = dask.distributed.Client(cluster)"
   ]
  },
  {
   "cell_type": "code",
   "execution_count": null,
   "id": "b05c9cb1-4a7e-4781-81a3-da89f1519b1f",
   "metadata": {},
   "outputs": [],
   "source": [
    "client.scheduler_info"
   ]
  },
  {
   "cell_type": "code",
   "execution_count": null,
   "id": "16bd5196-efc4-4fae-bbb9-fdde0ab87e61",
   "metadata": {},
   "outputs": [],
   "source": [
    "client"
   ]
  },
  {
   "cell_type": "markdown",
   "id": "ba4ff930-a891-4107-8185-fc6385033b5b",
   "metadata": {},
   "source": [
    "Prepare Dask worker machines to be added,"
   ]
  },
  {
   "cell_type": "code",
   "execution_count": null,
   "id": "697136c0-79d6-4863-82f3-661efeabd447",
   "metadata": {},
   "outputs": [],
   "source": [
    "scheduler_ip='10.199.124.103:44545' # see client.scheduler_info above!\n",
    "nthreads='7'; memory_limit='32GiB' # should be comparable to gcloud Dask worker machines!"
   ]
  },
  {
   "cell_type": "code",
   "execution_count": null,
   "id": "2f784076-6b8f-4c9f-a994-5afbc8b67339",
   "metadata": {},
   "outputs": [],
   "source": [
    "worker_targets = [\"khoeflich@scalc{:02d}.geomar.de\".format(machine_id) for machine_id in range(4,14)]"
   ]
  },
  {
   "cell_type": "code",
   "execution_count": null,
   "id": "464d641b-537e-44a0-886f-3282d2863cdc",
   "metadata": {},
   "outputs": [],
   "source": [
    "import random\n",
    "random.seed(56)"
   ]
  },
  {
   "cell_type": "code",
   "execution_count": null,
   "id": "bb1e298e-2f19-4b16-9ae2-965f51d0cf17",
   "metadata": {},
   "outputs": [],
   "source": [
    "for _ in range(89):\n",
    "    random.shuffle(worker_targets)"
   ]
  },
  {
   "cell_type": "code",
   "execution_count": null,
   "id": "f18a9e79-ecd6-4b20-a2fc-ab7efc512743",
   "metadata": {},
   "outputs": [],
   "source": [
    "worker_targets"
   ]
  },
  {
   "cell_type": "code",
   "execution_count": null,
   "id": "178823cd-cba7-410f-b667-ac55fe73bf0d",
   "metadata": {},
   "outputs": [],
   "source": [
    "#worker_targets = ['khoeflich@scalc04.geomar.de']"
   ]
  },
  {
   "cell_type": "code",
   "execution_count": null,
   "id": "f9e47873-22fc-46de-965f-cec58694a4a1",
   "metadata": {},
   "outputs": [],
   "source": [
    "def add_dask_worker(ssh_target, scheduler_ip, nthreads, memory_limit):\n",
    "    worker_command = \"ssh \"+ssh_target+\" -i id_rsa_esmvfc singularity run --bind /data/user/khoeflich/github/ESM-VFC-cloud-project/ /home/khoeflich/ESM-VFC-cloud-project/performance/pangeo-notebook_2021.07.17.sif dask-worker \"+scheduler_ip+\" --nthreads \"+nthreads+\" --memory-limit \"+memory_limit\n",
    "    subprocess.Popen(worker_command, shell=True)"
   ]
  },
  {
   "cell_type": "code",
   "execution_count": null,
   "id": "d1cb7df1-360a-4de2-9dc3-daecdbb284f9",
   "metadata": {},
   "outputs": [],
   "source": [
    "#for ssh_target in worker_targets:\n",
    "#    add_dask_worker(ssh_target, scheduler_ip, nthreads)"
   ]
  },
  {
   "cell_type": "code",
   "execution_count": null,
   "id": "47b3c868-1b2a-47df-9506-b6afcef1524d",
   "metadata": {},
   "outputs": [],
   "source": [
    "len(cluster.scheduler_info.get('workers').keys())"
   ]
  },
  {
   "cell_type": "markdown",
   "id": "29022e2d-efc2-49f3-be53-8158b7112ea5",
   "metadata": {},
   "source": [
    "## Specify VIKING20X dataset"
   ]
  },
  {
   "cell_type": "code",
   "execution_count": null,
   "id": "c943a62b-7fe5-44d3-b86c-e5f11b41303d",
   "metadata": {},
   "outputs": [],
   "source": [
    "ds_tgrid = xarray.open_zarr('/data/user/khoeflich/github/ESM-VFC-cloud-project/VIKING20X.L46-KFS003_1m_grid_T.zarr')"
   ]
  },
  {
   "cell_type": "code",
   "execution_count": null,
   "id": "b0964784-1298-4e70-8e8d-0514daa8a4d4",
   "metadata": {},
   "outputs": [],
   "source": [
    "ds_ugrid = xarray.open_zarr('/data/user/khoeflich/github/ESM-VFC-cloud-project/VIKING20X.L46-KFS003_1m_grid_U.zarr')"
   ]
  },
  {
   "cell_type": "code",
   "execution_count": null,
   "id": "2d00bf43-1f6a-4047-8ea7-5c07bd452c12",
   "metadata": {},
   "outputs": [],
   "source": [
    "ds_vgrid = xarray.open_zarr('/data/user/khoeflich/github/ESM-VFC-cloud-project/VIKING20X.L46-KFS003_1m_grid_V.zarr')"
   ]
  },
  {
   "cell_type": "markdown",
   "id": "fe82fb6d-c81d-4136-88d3-a96ad2cb63d2",
   "metadata": {},
   "source": [
    "Uncompressed size,"
   ]
  },
  {
   "cell_type": "code",
   "execution_count": null,
   "id": "1d173792-eeb0-46cf-898d-08cd45e34d1d",
   "metadata": {},
   "outputs": [],
   "source": [
    "print(ds_tgrid.nbytes/1e9, 'in GB')\n",
    "print(ds_ugrid.nbytes/1e9, 'in GB')\n",
    "print(ds_vgrid.nbytes/1e9, 'in GB')"
   ]
  },
  {
   "cell_type": "markdown",
   "id": "08e156a6-5a4d-4a96-a9be-61d0c537e8f5",
   "metadata": {},
   "source": [
    "Compressed size,"
   ]
  },
  {
   "cell_type": "code",
   "execution_count": null,
   "id": "d453086b-4e1a-4b4d-b6f6-ca8e9780347d",
   "metadata": {},
   "outputs": [],
   "source": [
    "!du -sh /data/user/khoeflich/github/ESM-VFC-cloud-project/VIKING20X.L46-KFS003_1m_grid_T.zarr/\n",
    "!du -sh /data/user/khoeflich/github/ESM-VFC-cloud-project/VIKING20X.L46-KFS003_1m_grid_U.zarr/\n",
    "!du -sh /data/user/khoeflich/github/ESM-VFC-cloud-project/VIKING20X.L46-KFS003_1m_grid_V.zarr/"
   ]
  },
  {
   "cell_type": "markdown",
   "id": "e1f04196-12a5-4393-8240-327040d5ce5d",
   "metadata": {},
   "source": [
    "## Run performance experiment"
   ]
  },
  {
   "cell_type": "code",
   "execution_count": null,
   "id": "5e0766f2-8df9-49d8-b465-41bec3a110f4",
   "metadata": {},
   "outputs": [],
   "source": [
    "import time, datetime\n",
    "\n",
    "exp_name='scalc'\n",
    "remaining_worker_targets = worker_targets.copy()\n",
    "no_of_realizations = 25\n",
    "\n",
    "now = datetime.datetime.now().strftime(\"%Y%m%d%H%M%S\")\n",
    "walltime = ['machine,workers,walltime']\n",
    "\n",
    "# Measuring.\n",
    "\n",
    "while len(remaining_worker_targets) > 0:\n",
    "    \n",
    "    # Start additional workers.\n",
    "\n",
    "    for _ in range(2):\n",
    "        add_dask_worker(remaining_worker_targets.pop(0), scheduler_ip, nthreads, memory_limit)\n",
    "        \n",
    "    # Wait for workers to be available.\n",
    "    \n",
    "    while len(cluster.scheduler_info.get('workers').keys()) < len(worker_targets)-len(remaining_worker_targets):\n",
    "        time.sleep(5)\n",
    "    \n",
    "    # Warming up.\n",
    "    \n",
    "    for _ in range(3):\n",
    "        ds_tgrid['votemper'].mean(['deptht', 'time_counter', 'x', 'y']).compute()\n",
    "        ds_tgrid['vosaline'].mean(['deptht', 'time_counter', 'x', 'y']).compute()\n",
    "        ds_ugrid['vozocrtx'].mean(['depthu', 'time_counter', 'x', 'y']).compute()\n",
    "        ds_vgrid['vomecrty'].mean(['depthv', 'time_counter', 'x', 'y']).compute()\n",
    "\n",
    "    # Do the calculation.\n",
    "\n",
    "    for _ in range(no_of_realizations):\n",
    "        \n",
    "        workers=len(cluster.scheduler_info.get('workers').keys())\n",
    "\n",
    "        start_time_in_sec = time.time() # time in seconds\n",
    "\n",
    "        ds_tgrid['votemper'].mean(['deptht', 'time_counter', 'x', 'y']).compute()\n",
    "        ds_tgrid['vosaline'].mean(['deptht', 'time_counter', 'x', 'y']).compute()\n",
    "        ds_ugrid['vozocrtx'].mean(['depthu', 'time_counter', 'x', 'y']).compute()\n",
    "        ds_vgrid['vomecrty'].mean(['depthv', 'time_counter', 'x', 'y']).compute()\n",
    "\n",
    "        end_time_in_sec = time.time() # time in seconds\n",
    "\n",
    "        output_row = \"{},{},{}\".format(exp_name, workers, end_time_in_sec-start_time_in_sec)\n",
    "        walltime.append(output_row)"
   ]
  },
  {
   "cell_type": "code",
   "execution_count": null,
   "id": "d1b1a0c2-a097-4d67-a83b-f510309f1a66",
   "metadata": {},
   "outputs": [],
   "source": [
    "client.close(); cluster.close()"
   ]
  },
  {
   "cell_type": "markdown",
   "id": "8d0e0662-af02-4ce6-83dc-798b7a821cf3",
   "metadata": {},
   "source": [
    "Write results to disk,"
   ]
  },
  {
   "cell_type": "code",
   "execution_count": null,
   "id": "4c67d435-5c98-453b-ae52-11a70bc21c4e",
   "metadata": {},
   "outputs": [],
   "source": [
    "import csv\n",
    "\n",
    "with open('./viking20x_logs/'+now+'_'+exp_name+'.log', 'w') as file:\n",
    "    wr = csv.writer(file, delimiter='\\n')\n",
    "    wr.writerow(walltime)"
   ]
  },
  {
   "cell_type": "markdown",
   "id": "ddab499b-65fb-4ee9-99f7-6f00696de653",
   "metadata": {},
   "source": [
    "## Python environment"
   ]
  },
  {
   "cell_type": "code",
   "execution_count": null,
   "id": "7b1a7c29-b078-4df6-9619-5239d32183f5",
   "metadata": {},
   "outputs": [],
   "source": [
    "pip list"
   ]
  },
  {
   "cell_type": "code",
   "execution_count": null,
   "id": "276fcda2-3055-440b-8ea1-d5e95d6e108d",
   "metadata": {},
   "outputs": [],
   "source": [
    "!conda list --explicit"
   ]
  }
 ],
 "metadata": {
  "kernelspec": {
   "display_name": "Python 3 (ipykernel)",
   "language": "python",
   "name": "python3"
  },
  "language_info": {
   "codemirror_mode": {
    "name": "ipython",
    "version": 3
   },
   "file_extension": ".py",
   "mimetype": "text/x-python",
   "name": "python",
   "nbconvert_exporter": "python",
   "pygments_lexer": "ipython3",
   "version": "3.8.10"
  }
 },
 "nbformat": 4,
 "nbformat_minor": 5
}
