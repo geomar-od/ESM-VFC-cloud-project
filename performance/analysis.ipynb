{
 "cells": [
  {
   "cell_type": "markdown",
   "id": "64cb1c1f-a75d-4c11-a15f-8f8f827364e4",
   "metadata": {},
   "source": [
    "# Performance comparison analysis"
   ]
  },
  {
   "cell_type": "code",
   "execution_count": 1,
   "id": "311d6c27-1fd8-4dcb-b10d-473df529d0ea",
   "metadata": {},
   "outputs": [],
   "source": [
    "import pandas, glob\n",
    "import matplotlib.pyplot as plt"
   ]
  },
  {
   "cell_type": "code",
   "execution_count": 2,
   "id": "ac4e8d16-b702-42bb-a4d7-e7a97860f5a4",
   "metadata": {},
   "outputs": [],
   "source": [
    "files = glob.glob('./pi-example_logs/*.log')"
   ]
  },
  {
   "cell_type": "code",
   "execution_count": 3,
   "id": "9df5978f-ec05-422d-8e2f-b1a5474039a1",
   "metadata": {},
   "outputs": [
    {
     "data": {
      "text/plain": [
       "['./pi-example_logs/20220123171325_neshcl298.log',\n",
       " './pi-example_logs/20220123171858_neshcl388.log']"
      ]
     },
     "execution_count": 3,
     "metadata": {},
     "output_type": "execute_result"
    }
   ],
   "source": [
    "files"
   ]
  },
  {
   "cell_type": "code",
   "execution_count": 4,
   "id": "1ed36700-a7e9-4e9a-ba7a-82b1dcb45d35",
   "metadata": {},
   "outputs": [],
   "source": [
    "df = []\n",
    "for file in files:\n",
    "    df.append(pandas.read_csv(file))"
   ]
  },
  {
   "cell_type": "code",
   "execution_count": 5,
   "id": "c6f8b3ea-35d2-4c0e-982f-e88132cd9403",
   "metadata": {},
   "outputs": [],
   "source": [
    "walltime = pandas.concat(df, axis=1)"
   ]
  },
  {
   "cell_type": "code",
   "execution_count": 6,
   "id": "9b8ab812-df8d-4615-8424-7821cd45a856",
   "metadata": {},
   "outputs": [
    {
     "data": {
      "text/html": [
       "<div>\n",
       "<style scoped>\n",
       "    .dataframe tbody tr th:only-of-type {\n",
       "        vertical-align: middle;\n",
       "    }\n",
       "\n",
       "    .dataframe tbody tr th {\n",
       "        vertical-align: top;\n",
       "    }\n",
       "\n",
       "    .dataframe thead th {\n",
       "        text-align: right;\n",
       "    }\n",
       "</style>\n",
       "<table border=\"1\" class=\"dataframe\">\n",
       "  <thead>\n",
       "    <tr style=\"text-align: right;\">\n",
       "      <th></th>\n",
       "      <th>neshcl298</th>\n",
       "      <th>neshcl388</th>\n",
       "    </tr>\n",
       "  </thead>\n",
       "  <tbody>\n",
       "    <tr>\n",
       "      <th>0</th>\n",
       "      <td>4.612665</td>\n",
       "      <td>5.042383</td>\n",
       "    </tr>\n",
       "    <tr>\n",
       "      <th>1</th>\n",
       "      <td>4.403448</td>\n",
       "      <td>5.250752</td>\n",
       "    </tr>\n",
       "    <tr>\n",
       "      <th>2</th>\n",
       "      <td>4.519883</td>\n",
       "      <td>5.076627</td>\n",
       "    </tr>\n",
       "    <tr>\n",
       "      <th>3</th>\n",
       "      <td>4.588392</td>\n",
       "      <td>5.223645</td>\n",
       "    </tr>\n",
       "    <tr>\n",
       "      <th>4</th>\n",
       "      <td>4.491134</td>\n",
       "      <td>5.102678</td>\n",
       "    </tr>\n",
       "    <tr>\n",
       "      <th>5</th>\n",
       "      <td>4.471801</td>\n",
       "      <td>5.275924</td>\n",
       "    </tr>\n",
       "    <tr>\n",
       "      <th>6</th>\n",
       "      <td>4.604506</td>\n",
       "      <td>5.369411</td>\n",
       "    </tr>\n",
       "    <tr>\n",
       "      <th>7</th>\n",
       "      <td>4.539690</td>\n",
       "      <td>5.031728</td>\n",
       "    </tr>\n",
       "    <tr>\n",
       "      <th>8</th>\n",
       "      <td>4.377800</td>\n",
       "      <td>4.937170</td>\n",
       "    </tr>\n",
       "    <tr>\n",
       "      <th>9</th>\n",
       "      <td>4.524308</td>\n",
       "      <td>4.877240</td>\n",
       "    </tr>\n",
       "    <tr>\n",
       "      <th>10</th>\n",
       "      <td>4.522737</td>\n",
       "      <td>5.041849</td>\n",
       "    </tr>\n",
       "    <tr>\n",
       "      <th>11</th>\n",
       "      <td>4.486343</td>\n",
       "      <td>4.955959</td>\n",
       "    </tr>\n",
       "    <tr>\n",
       "      <th>12</th>\n",
       "      <td>4.585512</td>\n",
       "      <td>4.843626</td>\n",
       "    </tr>\n",
       "    <tr>\n",
       "      <th>13</th>\n",
       "      <td>4.327286</td>\n",
       "      <td>4.844573</td>\n",
       "    </tr>\n",
       "    <tr>\n",
       "      <th>14</th>\n",
       "      <td>4.576116</td>\n",
       "      <td>4.823895</td>\n",
       "    </tr>\n",
       "    <tr>\n",
       "      <th>15</th>\n",
       "      <td>4.523998</td>\n",
       "      <td>4.765253</td>\n",
       "    </tr>\n",
       "    <tr>\n",
       "      <th>16</th>\n",
       "      <td>4.481472</td>\n",
       "      <td>4.757927</td>\n",
       "    </tr>\n",
       "    <tr>\n",
       "      <th>17</th>\n",
       "      <td>4.396146</td>\n",
       "      <td>4.998727</td>\n",
       "    </tr>\n",
       "    <tr>\n",
       "      <th>18</th>\n",
       "      <td>4.568652</td>\n",
       "      <td>4.966740</td>\n",
       "    </tr>\n",
       "    <tr>\n",
       "      <th>19</th>\n",
       "      <td>4.340220</td>\n",
       "      <td>4.986106</td>\n",
       "    </tr>\n",
       "    <tr>\n",
       "      <th>20</th>\n",
       "      <td>4.461834</td>\n",
       "      <td>5.211580</td>\n",
       "    </tr>\n",
       "    <tr>\n",
       "      <th>21</th>\n",
       "      <td>4.473898</td>\n",
       "      <td>5.004747</td>\n",
       "    </tr>\n",
       "    <tr>\n",
       "      <th>22</th>\n",
       "      <td>4.584341</td>\n",
       "      <td>4.860772</td>\n",
       "    </tr>\n",
       "    <tr>\n",
       "      <th>23</th>\n",
       "      <td>4.331940</td>\n",
       "      <td>4.990951</td>\n",
       "    </tr>\n",
       "    <tr>\n",
       "      <th>24</th>\n",
       "      <td>4.533644</td>\n",
       "      <td>5.169679</td>\n",
       "    </tr>\n",
       "  </tbody>\n",
       "</table>\n",
       "</div>"
      ],
      "text/plain": [
       "    neshcl298  neshcl388\n",
       "0    4.612665   5.042383\n",
       "1    4.403448   5.250752\n",
       "2    4.519883   5.076627\n",
       "3    4.588392   5.223645\n",
       "4    4.491134   5.102678\n",
       "5    4.471801   5.275924\n",
       "6    4.604506   5.369411\n",
       "7    4.539690   5.031728\n",
       "8    4.377800   4.937170\n",
       "9    4.524308   4.877240\n",
       "10   4.522737   5.041849\n",
       "11   4.486343   4.955959\n",
       "12   4.585512   4.843626\n",
       "13   4.327286   4.844573\n",
       "14   4.576116   4.823895\n",
       "15   4.523998   4.765253\n",
       "16   4.481472   4.757927\n",
       "17   4.396146   4.998727\n",
       "18   4.568652   4.966740\n",
       "19   4.340220   4.986106\n",
       "20   4.461834   5.211580\n",
       "21   4.473898   5.004747\n",
       "22   4.584341   4.860772\n",
       "23   4.331940   4.990951\n",
       "24   4.533644   5.169679"
      ]
     },
     "execution_count": 6,
     "metadata": {},
     "output_type": "execute_result"
    }
   ],
   "source": [
    "walltime"
   ]
  },
  {
   "cell_type": "code",
   "execution_count": 7,
   "id": "b68d4cb3-5818-4418-8df5-9059385f11bf",
   "metadata": {},
   "outputs": [
    {
     "data": {
      "image/png": "[encoded data removed]",
      "text/plain": [
       "<Figure size 432x288 with 1 Axes>"
      ]
     },
     "metadata": {
      "needs_background": "light"
     },
     "output_type": "display_data"
    }
   ],
   "source": [
    "walltime.boxplot(); plt.ylabel('wall time in sec');\n",
    "plt.title('pi calculation using 0.01 TB of random numbers');"
   ]
  },
  {
   "cell_type": "code",
   "execution_count": null,
   "id": "a20d524a-cd74-4558-880d-65c0330ff050",
   "metadata": {},
   "outputs": [],
   "source": []
  }
 ],
 "metadata": {
  "kernelspec": {
   "display_name": "Python 3 (ipykernel)",
   "language": "python",
   "name": "python3"
  },
  "language_info": {
   "codemirror_mode": {
    "name": "ipython",
    "version": 3
   },
   "file_extension": ".py",
   "mimetype": "text/x-python",
   "name": "python",
   "nbconvert_exporter": "python",
   "pygments_lexer": "ipython3",
   "version": "3.8.10"
  }
 },
 "nbformat": 4,
 "nbformat_minor": 5
}
